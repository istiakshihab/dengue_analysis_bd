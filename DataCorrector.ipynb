{
 "cells": [
  {
   "cell_type": "code",
   "execution_count": 6,
   "metadata": {},
   "outputs": [],
   "source": [
    "import pandas as pd"
   ]
  },
  {
   "cell_type": "code",
   "execution_count": 7,
   "metadata": {},
   "outputs": [],
   "source": [
    "division = pd.read_csv(\"divisions.csv\",names=[\"id\",\"eng\",\"bang\",\"web\"])\n",
    "district = pd.read_csv(\"districtDataCorrected.csv\")\n",
    "upazilla = pd.read_csv(\"upazillaCorrected.csv\")\n",
    "unions = pd.read_csv(\"unionData.csv\")"
   ]
  },
  {
   "cell_type": "code",
   "execution_count": 13,
   "metadata": {},
   "outputs": [
    {
     "output_type": "execute_result",
     "data": {
      "text/plain": "   serial  id           bang  2019  20191  20192  20193  20194  20195  20196  \\\n0       0   1      দেবিদ্বার  23.0    0.0    0.0    0.0    0.0    0.0    0.0   \n1       1   1         বরুড়া   2.0    0.0    0.0    0.0    0.0    0.0    0.0   \n2       2   1  ব্রাহ্মণপাড়া   7.0    0.0    0.0    0.0    0.0    0.0    0.0   \n3       3   1       চান্দিনা  25.0    0.0    0.0    0.0    0.0    0.0    0.0   \n4       4   1     চৌদ্দগ্রাম  16.0    0.0    0.0    0.0    0.0    0.0    0.0   \n\n   20197  20198  20199  201910  201911  201912  2020  20201  20202  20203  \n0    1.0   22.0    0.0     0.0     0.0     0.0   0.0    0.0    0.0    0.0  \n1    1.0    1.0    0.0     0.0     0.0     0.0   0.0    0.0    0.0    0.0  \n2    0.0    7.0    0.0     0.0     0.0     0.0   0.0    0.0    0.0    0.0  \n3    0.0   24.0    1.0     0.0     0.0     0.0   0.0    0.0    0.0    0.0  \n4    0.0   14.0    0.0     0.0     0.0     2.0   0.0    0.0    0.0    0.0  ",
      "text/html": "<div>\n<style scoped>\n    .dataframe tbody tr th:only-of-type {\n        vertical-align: middle;\n    }\n\n    .dataframe tbody tr th {\n        vertical-align: top;\n    }\n\n    .dataframe thead th {\n        text-align: right;\n    }\n</style>\n<table border=\"1\" class=\"dataframe\">\n  <thead>\n    <tr style=\"text-align: right;\">\n      <th></th>\n      <th>serial</th>\n      <th>id</th>\n      <th>bang</th>\n      <th>2019</th>\n      <th>20191</th>\n      <th>20192</th>\n      <th>20193</th>\n      <th>20194</th>\n      <th>20195</th>\n      <th>20196</th>\n      <th>20197</th>\n      <th>20198</th>\n      <th>20199</th>\n      <th>201910</th>\n      <th>201911</th>\n      <th>201912</th>\n      <th>2020</th>\n      <th>20201</th>\n      <th>20202</th>\n      <th>20203</th>\n    </tr>\n  </thead>\n  <tbody>\n    <tr>\n      <th>0</th>\n      <td>0</td>\n      <td>1</td>\n      <td>দেবিদ্বার</td>\n      <td>23.0</td>\n      <td>0.0</td>\n      <td>0.0</td>\n      <td>0.0</td>\n      <td>0.0</td>\n      <td>0.0</td>\n      <td>0.0</td>\n      <td>1.0</td>\n      <td>22.0</td>\n      <td>0.0</td>\n      <td>0.0</td>\n      <td>0.0</td>\n      <td>0.0</td>\n      <td>0.0</td>\n      <td>0.0</td>\n      <td>0.0</td>\n      <td>0.0</td>\n    </tr>\n    <tr>\n      <th>1</th>\n      <td>1</td>\n      <td>1</td>\n      <td>বরুড়া</td>\n      <td>2.0</td>\n      <td>0.0</td>\n      <td>0.0</td>\n      <td>0.0</td>\n      <td>0.0</td>\n      <td>0.0</td>\n      <td>0.0</td>\n      <td>1.0</td>\n      <td>1.0</td>\n      <td>0.0</td>\n      <td>0.0</td>\n      <td>0.0</td>\n      <td>0.0</td>\n      <td>0.0</td>\n      <td>0.0</td>\n      <td>0.0</td>\n      <td>0.0</td>\n    </tr>\n    <tr>\n      <th>2</th>\n      <td>2</td>\n      <td>1</td>\n      <td>ব্রাহ্মণপাড়া</td>\n      <td>7.0</td>\n      <td>0.0</td>\n      <td>0.0</td>\n      <td>0.0</td>\n      <td>0.0</td>\n      <td>0.0</td>\n      <td>0.0</td>\n      <td>0.0</td>\n      <td>7.0</td>\n      <td>0.0</td>\n      <td>0.0</td>\n      <td>0.0</td>\n      <td>0.0</td>\n      <td>0.0</td>\n      <td>0.0</td>\n      <td>0.0</td>\n      <td>0.0</td>\n    </tr>\n    <tr>\n      <th>3</th>\n      <td>3</td>\n      <td>1</td>\n      <td>চান্দিনা</td>\n      <td>25.0</td>\n      <td>0.0</td>\n      <td>0.0</td>\n      <td>0.0</td>\n      <td>0.0</td>\n      <td>0.0</td>\n      <td>0.0</td>\n      <td>0.0</td>\n      <td>24.0</td>\n      <td>1.0</td>\n      <td>0.0</td>\n      <td>0.0</td>\n      <td>0.0</td>\n      <td>0.0</td>\n      <td>0.0</td>\n      <td>0.0</td>\n      <td>0.0</td>\n    </tr>\n    <tr>\n      <th>4</th>\n      <td>4</td>\n      <td>1</td>\n      <td>চৌদ্দগ্রাম</td>\n      <td>16.0</td>\n      <td>0.0</td>\n      <td>0.0</td>\n      <td>0.0</td>\n      <td>0.0</td>\n      <td>0.0</td>\n      <td>0.0</td>\n      <td>0.0</td>\n      <td>14.0</td>\n      <td>0.0</td>\n      <td>0.0</td>\n      <td>0.0</td>\n      <td>2.0</td>\n      <td>0.0</td>\n      <td>0.0</td>\n      <td>0.0</td>\n      <td>0.0</td>\n    </tr>\n  </tbody>\n</table>\n</div>"
     },
     "metadata": {},
     "execution_count": 13
    }
   ],
   "source": [
    "division.head()\n",
    "district.head()\n",
    "unions.head()\n",
    "upazilla.head()\n"
   ]
  },
  {
   "cell_type": "code",
   "execution_count": 4,
   "metadata": {
    "tags": [
     "outputPrepend"
    ]
   },
   "outputs": [],
   "source": [
    "for i,row in unions.iterrows():\n",
    "    for j, rowDiv in upazilla.iterrows():\n",
    "        if(rowDiv.serial+1 == row.id):\n",
    "            district.loc[i,'id'] = rowDiv.bang\n",
    "            break"
   ]
  },
  {
   "cell_type": "code",
   "execution_count": 36,
   "metadata": {},
   "outputs": [],
   "source": [
    "district.to_csv(\"districtCorrect.csv\")"
   ]
  },
  {
   "cell_type": "code",
   "execution_count": 5,
   "metadata": {},
   "outputs": [
    {
     "output_type": "execute_result",
     "data": {
      "text/plain": "   serial      id              bang   2019  20191  20192  20193  20194  20195  \\\n0     1.0  লালমাই          কুমিল্লা  419.0    1.0    2.0    0.0    0.0    0.0   \n1     2.0  লালমাই              ফেনী  192.0    0.0    0.0    0.0    0.0    0.0   \n2     3.0  লালমাই  ব্রাহ্মণবাড়িয়া  187.0    1.0    2.0    0.0    0.0    0.0   \n3     4.0  লালমাই        রাঙ্গামাটি   34.0    0.0    0.0    3.0    0.0    0.0   \n4     5.0  লালমাই         নোয়াখালী  231.0    0.0    0.0    2.0    0.0    0.0   \n\n   20196  20197  20198  20199  201910  201911  201912  2020  20201  20202  \\\n0    1.0   10.0  332.0   55.0     6.0    10.0     2.0   2.0    0.0    2.0   \n1    0.0    7.0  138.0   33.0     5.0     1.0     8.0   3.0    3.0    0.0   \n2    0.0    6.0  117.0   46.0     2.0     4.0     9.0   0.0    0.0    0.0   \n3    0.0    3.0   25.0    2.0     0.0     1.0     0.0   0.0    0.0    0.0   \n4    0.0    1.0  202.0   18.0     8.0     0.0     0.0   0.0    0.0    0.0   \n\n   20203  \n0    0.0  \n1    0.0  \n2    0.0  \n3    0.0  \n4    0.0  ",
      "text/html": "<div>\n<style scoped>\n    .dataframe tbody tr th:only-of-type {\n        vertical-align: middle;\n    }\n\n    .dataframe tbody tr th {\n        vertical-align: top;\n    }\n\n    .dataframe thead th {\n        text-align: right;\n    }\n</style>\n<table border=\"1\" class=\"dataframe\">\n  <thead>\n    <tr style=\"text-align: right;\">\n      <th></th>\n      <th>serial</th>\n      <th>id</th>\n      <th>bang</th>\n      <th>2019</th>\n      <th>20191</th>\n      <th>20192</th>\n      <th>20193</th>\n      <th>20194</th>\n      <th>20195</th>\n      <th>20196</th>\n      <th>20197</th>\n      <th>20198</th>\n      <th>20199</th>\n      <th>201910</th>\n      <th>201911</th>\n      <th>201912</th>\n      <th>2020</th>\n      <th>20201</th>\n      <th>20202</th>\n      <th>20203</th>\n    </tr>\n  </thead>\n  <tbody>\n    <tr>\n      <th>0</th>\n      <td>1.0</td>\n      <td>লালমাই</td>\n      <td>কুমিল্লা</td>\n      <td>419.0</td>\n      <td>1.0</td>\n      <td>2.0</td>\n      <td>0.0</td>\n      <td>0.0</td>\n      <td>0.0</td>\n      <td>1.0</td>\n      <td>10.0</td>\n      <td>332.0</td>\n      <td>55.0</td>\n      <td>6.0</td>\n      <td>10.0</td>\n      <td>2.0</td>\n      <td>2.0</td>\n      <td>0.0</td>\n      <td>2.0</td>\n      <td>0.0</td>\n    </tr>\n    <tr>\n      <th>1</th>\n      <td>2.0</td>\n      <td>লালমাই</td>\n      <td>ফেনী</td>\n      <td>192.0</td>\n      <td>0.0</td>\n      <td>0.0</td>\n      <td>0.0</td>\n      <td>0.0</td>\n      <td>0.0</td>\n      <td>0.0</td>\n      <td>7.0</td>\n      <td>138.0</td>\n      <td>33.0</td>\n      <td>5.0</td>\n      <td>1.0</td>\n      <td>8.0</td>\n      <td>3.0</td>\n      <td>3.0</td>\n      <td>0.0</td>\n      <td>0.0</td>\n    </tr>\n    <tr>\n      <th>2</th>\n      <td>3.0</td>\n      <td>লালমাই</td>\n      <td>ব্রাহ্মণবাড়িয়া</td>\n      <td>187.0</td>\n      <td>1.0</td>\n      <td>2.0</td>\n      <td>0.0</td>\n      <td>0.0</td>\n      <td>0.0</td>\n      <td>0.0</td>\n      <td>6.0</td>\n      <td>117.0</td>\n      <td>46.0</td>\n      <td>2.0</td>\n      <td>4.0</td>\n      <td>9.0</td>\n      <td>0.0</td>\n      <td>0.0</td>\n      <td>0.0</td>\n      <td>0.0</td>\n    </tr>\n    <tr>\n      <th>3</th>\n      <td>4.0</td>\n      <td>লালমাই</td>\n      <td>রাঙ্গামাটি</td>\n      <td>34.0</td>\n      <td>0.0</td>\n      <td>0.0</td>\n      <td>3.0</td>\n      <td>0.0</td>\n      <td>0.0</td>\n      <td>0.0</td>\n      <td>3.0</td>\n      <td>25.0</td>\n      <td>2.0</td>\n      <td>0.0</td>\n      <td>1.0</td>\n      <td>0.0</td>\n      <td>0.0</td>\n      <td>0.0</td>\n      <td>0.0</td>\n      <td>0.0</td>\n    </tr>\n    <tr>\n      <th>4</th>\n      <td>5.0</td>\n      <td>লালমাই</td>\n      <td>নোয়াখালী</td>\n      <td>231.0</td>\n      <td>0.0</td>\n      <td>0.0</td>\n      <td>2.0</td>\n      <td>0.0</td>\n      <td>0.0</td>\n      <td>0.0</td>\n      <td>1.0</td>\n      <td>202.0</td>\n      <td>18.0</td>\n      <td>8.0</td>\n      <td>0.0</td>\n      <td>0.0</td>\n      <td>0.0</td>\n      <td>0.0</td>\n      <td>0.0</td>\n      <td>0.0</td>\n    </tr>\n  </tbody>\n</table>\n</div>"
     },
     "metadata": {},
     "execution_count": 5
    }
   ],
   "source": [
    "district.head()"
   ]
  },
  {
   "cell_type": "code",
   "execution_count": null,
   "metadata": {},
   "outputs": [],
   "source": []
  }
 ],
 "metadata": {
  "language_info": {
   "codemirror_mode": {
    "name": "ipython",
    "version": 3
   },
   "file_extension": ".py",
   "mimetype": "text/x-python",
   "name": "python",
   "nbconvert_exporter": "python",
   "pygments_lexer": "ipython3",
   "version": "3.8.2-final"
  },
  "orig_nbformat": 2,
  "kernelspec": {
   "name": "pycharm-833bc5f4",
   "display_name": "PyCharm (object_detection)"
  }
 },
 "nbformat": 4,
 "nbformat_minor": 2
}