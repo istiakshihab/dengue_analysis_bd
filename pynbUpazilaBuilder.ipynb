{
 "cells": [
  {
   "cell_type": "code",
   "execution_count": 2,
   "metadata": {},
   "outputs": [],
   "source": [
    "import pandas as pd"
   ]
  },
  {
   "cell_type": "code",
   "execution_count": 3,
   "metadata": {},
   "outputs": [],
   "source": [
    "districts = pd.read_csv(\"districts.csv\",names=[\"id\", \"division\", \"districtEnglish\",\"districtBangla\",\"lats\",\"longs\",\"web\"])\n",
    "divisions = pd.read_csv(\"divisions.csv\",names=[\"id\", \"districtEnglish\", \"divisionBangla\", \"web\"])\n",
    "upazilas  = pd.read_csv(\"upazilas.csv\" ,names=[\"id\", \"district\", \"districtEnglish\", \"upazilaBangla\", \"web\"])"
   ]
  },
  {
   "cell_type": "code",
   "execution_count": 4,
   "metadata": {},
   "outputs": [],
   "source": [
    "del districts['districtEnglish']\n",
    "del districts['lats']\n",
    "del districts['longs']\n",
    "del districts['web']\n",
    "del divisions['districtEnglish']\n",
    "del divisions['web']\n",
    "del upazilas['districtEnglish']\n",
    "del upazilas['web']"
   ]
  },
  {
   "cell_type": "code",
   "execution_count": 5,
   "metadata": {},
   "outputs": [],
   "source": [
    "for i,row in districts.iterrows():\n",
    "    x= row['division']\n",
    "    districts.loc[i,'division'] = divisions['divisionBangla'][x-1]"
   ]
  },
  {
   "cell_type": "code",
   "execution_count": 6,
   "metadata": {},
   "outputs": [],
   "source": [
    "for i,row in upazilas.iterrows():\n",
    "    x= row['district']\n",
    "    upazilas.loc[i,'district'] = districts['districtBangla'][x-1]\n",
    "    upazilas.loc[i,'division'] = districts['division'][x-1]"
   ]
  },
  {
   "cell_type": "code",
   "execution_count": 7,
   "metadata": {},
   "outputs": [],
   "source": [
    "upazilas = upazilas.reindex(columns=['id','division','district','upazilaBangla'])"
   ]
  },
  {
   "cell_type": "code",
   "execution_count": 8,
   "metadata": {},
   "outputs": [],
   "source": [
    "upazilas.to_csv('upazilaEdited.csv')"
   ]
  },
  {
   "cell_type": "code",
   "execution_count": null,
   "metadata": {},
   "outputs": [],
   "source": []
  }
 ],
 "metadata": {
  "language_info": {
   "name": "python",
   "codemirror_mode": {
    "name": "ipython",
    "version": 3
   },
   "version": "3.6.9-final"
  },
  "orig_nbformat": 2,
  "file_extension": ".py",
  "mimetype": "text/x-python",
  "name": "python",
  "npconvert_exporter": "python",
  "pygments_lexer": "ipython3",
  "version": 3,
  "kernelspec": {
   "name": "pycharm-833bc5f4",
   "display_name": "PyCharm (object_detection)"
  }
 },
 "nbformat": 4,
 "nbformat_minor": 2
}