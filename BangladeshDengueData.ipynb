{
 "nbformat": 4,
 "nbformat_minor": 2,
 "metadata": {
  "language_info": {
   "name": "python",
   "codemirror_mode": {
    "name": "ipython",
    "version": 3
   },
   "version": "3.6.9-final"
  },
  "orig_nbformat": 2,
  "file_extension": ".py",
  "mimetype": "text/x-python",
  "name": "python",
  "npconvert_exporter": "python",
  "pygments_lexer": "ipython3",
  "version": 3,
  "kernelspec": {
   "name": "pycharm-833bc5f4",
   "display_name": "PyCharm (object_detection)"
  }
 },
 "cells": [
  {
   "cell_type": "code",
   "execution_count": 7,
   "metadata": {},
   "outputs": [],
   "source": [
    "import pandas as pd"
   ]
  },
  {
   "cell_type": "code",
   "execution_count": 8,
   "metadata": {},
   "outputs": [],
   "source": [
    "csv = pd.read_csv(\"districtDataCorrected.csv\")"
   ]
  },
  {
   "cell_type": "code",
   "execution_count": 9,
   "metadata": {},
   "outputs": [
    {
     "output_type": "execute_result",
     "data": {
      "text/plain": "   serial  id              bang   2019  20191  20192  20193  20194  20195  \\\n0       1   1          কুমিল্লা  419.0    1.0    2.0    0.0    0.0    0.0   \n1       2   1              ফেনী  192.0    0.0    0.0    0.0    0.0    0.0   \n2       3   1  ব্রাহ্মণবাড়িয়া  187.0    1.0    2.0    0.0    0.0    0.0   \n3       4   1        রাঙ্গামাটি   34.0    0.0    0.0    3.0    0.0    0.0   \n4       5   1         নোয়াখালী  231.0    0.0    0.0    2.0    0.0    0.0   \n\n   20196  20197  20198  20199  201910  201911  201912  2020  20201  20202  \\\n0    1.0   10.0  332.0   55.0     6.0    10.0     2.0   2.0    0.0    2.0   \n1    0.0    7.0  138.0   33.0     5.0     1.0     8.0   3.0    3.0    0.0   \n2    0.0    6.0  117.0   46.0     2.0     4.0     9.0   0.0    0.0    0.0   \n3    0.0    3.0   25.0    2.0     0.0     1.0     0.0   0.0    0.0    0.0   \n4    0.0    1.0  202.0   18.0     8.0     0.0     0.0   0.0    0.0    0.0   \n\n   20203  \n0    0.0  \n1    0.0  \n2    0.0  \n3    0.0  \n4    0.0  ",
      "text/html": "<div>\n<style scoped>\n    .dataframe tbody tr th:only-of-type {\n        vertical-align: middle;\n    }\n\n    .dataframe tbody tr th {\n        vertical-align: top;\n    }\n\n    .dataframe thead th {\n        text-align: right;\n    }\n</style>\n<table border=\"1\" class=\"dataframe\">\n  <thead>\n    <tr style=\"text-align: right;\">\n      <th></th>\n      <th>serial</th>\n      <th>id</th>\n      <th>bang</th>\n      <th>2019</th>\n      <th>20191</th>\n      <th>20192</th>\n      <th>20193</th>\n      <th>20194</th>\n      <th>20195</th>\n      <th>20196</th>\n      <th>20197</th>\n      <th>20198</th>\n      <th>20199</th>\n      <th>201910</th>\n      <th>201911</th>\n      <th>201912</th>\n      <th>2020</th>\n      <th>20201</th>\n      <th>20202</th>\n      <th>20203</th>\n    </tr>\n  </thead>\n  <tbody>\n    <tr>\n      <th>0</th>\n      <td>1</td>\n      <td>1</td>\n      <td>কুমিল্লা</td>\n      <td>419.0</td>\n      <td>1.0</td>\n      <td>2.0</td>\n      <td>0.0</td>\n      <td>0.0</td>\n      <td>0.0</td>\n      <td>1.0</td>\n      <td>10.0</td>\n      <td>332.0</td>\n      <td>55.0</td>\n      <td>6.0</td>\n      <td>10.0</td>\n      <td>2.0</td>\n      <td>2.0</td>\n      <td>0.0</td>\n      <td>2.0</td>\n      <td>0.0</td>\n    </tr>\n    <tr>\n      <th>1</th>\n      <td>2</td>\n      <td>1</td>\n      <td>ফেনী</td>\n      <td>192.0</td>\n      <td>0.0</td>\n      <td>0.0</td>\n      <td>0.0</td>\n      <td>0.0</td>\n      <td>0.0</td>\n      <td>0.0</td>\n      <td>7.0</td>\n      <td>138.0</td>\n      <td>33.0</td>\n      <td>5.0</td>\n      <td>1.0</td>\n      <td>8.0</td>\n      <td>3.0</td>\n      <td>3.0</td>\n      <td>0.0</td>\n      <td>0.0</td>\n    </tr>\n    <tr>\n      <th>2</th>\n      <td>3</td>\n      <td>1</td>\n      <td>ব্রাহ্মণবাড়িয়া</td>\n      <td>187.0</td>\n      <td>1.0</td>\n      <td>2.0</td>\n      <td>0.0</td>\n      <td>0.0</td>\n      <td>0.0</td>\n      <td>0.0</td>\n      <td>6.0</td>\n      <td>117.0</td>\n      <td>46.0</td>\n      <td>2.0</td>\n      <td>4.0</td>\n      <td>9.0</td>\n      <td>0.0</td>\n      <td>0.0</td>\n      <td>0.0</td>\n      <td>0.0</td>\n    </tr>\n    <tr>\n      <th>3</th>\n      <td>4</td>\n      <td>1</td>\n      <td>রাঙ্গামাটি</td>\n      <td>34.0</td>\n      <td>0.0</td>\n      <td>0.0</td>\n      <td>3.0</td>\n      <td>0.0</td>\n      <td>0.0</td>\n      <td>0.0</td>\n      <td>3.0</td>\n      <td>25.0</td>\n      <td>2.0</td>\n      <td>0.0</td>\n      <td>1.0</td>\n      <td>0.0</td>\n      <td>0.0</td>\n      <td>0.0</td>\n      <td>0.0</td>\n      <td>0.0</td>\n    </tr>\n    <tr>\n      <th>4</th>\n      <td>5</td>\n      <td>1</td>\n      <td>নোয়াখালী</td>\n      <td>231.0</td>\n      <td>0.0</td>\n      <td>0.0</td>\n      <td>2.0</td>\n      <td>0.0</td>\n      <td>0.0</td>\n      <td>0.0</td>\n      <td>1.0</td>\n      <td>202.0</td>\n      <td>18.0</td>\n      <td>8.0</td>\n      <td>0.0</td>\n      <td>0.0</td>\n      <td>0.0</td>\n      <td>0.0</td>\n      <td>0.0</td>\n      <td>0.0</td>\n    </tr>\n  </tbody>\n</table>\n</div>"
     },
     "metadata": {},
     "execution_count": 9
    }
   ],
   "source": [
    "csv.head()"
   ]
  },
  {
   "cell_type": "code",
   "execution_count": 10,
   "metadata": {},
   "outputs": [],
   "source": [
    "del csv[\"serial\"]\n",
    "del csv[\"id\"]\n",
    "del csv[\"bang\"]"
   ]
  },
  {
   "cell_type": "code",
   "execution_count": 11,
   "metadata": {},
   "outputs": [
    {
     "output_type": "execute_result",
     "data": {
      "text/plain": "    2019  20191  20192  20193  20194  20195  20196  20197  20198  20199  \\\n0  419.0    1.0    2.0    0.0    0.0    0.0    1.0   10.0  332.0   55.0   \n1  192.0    0.0    0.0    0.0    0.0    0.0    0.0    7.0  138.0   33.0   \n2  187.0    1.0    2.0    0.0    0.0    0.0    0.0    6.0  117.0   46.0   \n3   34.0    0.0    0.0    3.0    0.0    0.0    0.0    3.0   25.0    2.0   \n4  231.0    0.0    0.0    2.0    0.0    0.0    0.0    1.0  202.0   18.0   \n\n   201910  201911  201912  2020  20201  20202  20203  \n0     6.0    10.0     2.0   2.0    0.0    2.0    0.0  \n1     5.0     1.0     8.0   3.0    3.0    0.0    0.0  \n2     2.0     4.0     9.0   0.0    0.0    0.0    0.0  \n3     0.0     1.0     0.0   0.0    0.0    0.0    0.0  \n4     8.0     0.0     0.0   0.0    0.0    0.0    0.0  ",
      "text/html": "<div>\n<style scoped>\n    .dataframe tbody tr th:only-of-type {\n        vertical-align: middle;\n    }\n\n    .dataframe tbody tr th {\n        vertical-align: top;\n    }\n\n    .dataframe thead th {\n        text-align: right;\n    }\n</style>\n<table border=\"1\" class=\"dataframe\">\n  <thead>\n    <tr style=\"text-align: right;\">\n      <th></th>\n      <th>2019</th>\n      <th>20191</th>\n      <th>20192</th>\n      <th>20193</th>\n      <th>20194</th>\n      <th>20195</th>\n      <th>20196</th>\n      <th>20197</th>\n      <th>20198</th>\n      <th>20199</th>\n      <th>201910</th>\n      <th>201911</th>\n      <th>201912</th>\n      <th>2020</th>\n      <th>20201</th>\n      <th>20202</th>\n      <th>20203</th>\n    </tr>\n  </thead>\n  <tbody>\n    <tr>\n      <th>0</th>\n      <td>419.0</td>\n      <td>1.0</td>\n      <td>2.0</td>\n      <td>0.0</td>\n      <td>0.0</td>\n      <td>0.0</td>\n      <td>1.0</td>\n      <td>10.0</td>\n      <td>332.0</td>\n      <td>55.0</td>\n      <td>6.0</td>\n      <td>10.0</td>\n      <td>2.0</td>\n      <td>2.0</td>\n      <td>0.0</td>\n      <td>2.0</td>\n      <td>0.0</td>\n    </tr>\n    <tr>\n      <th>1</th>\n      <td>192.0</td>\n      <td>0.0</td>\n      <td>0.0</td>\n      <td>0.0</td>\n      <td>0.0</td>\n      <td>0.0</td>\n      <td>0.0</td>\n      <td>7.0</td>\n      <td>138.0</td>\n      <td>33.0</td>\n      <td>5.0</td>\n      <td>1.0</td>\n      <td>8.0</td>\n      <td>3.0</td>\n      <td>3.0</td>\n      <td>0.0</td>\n      <td>0.0</td>\n    </tr>\n    <tr>\n      <th>2</th>\n      <td>187.0</td>\n      <td>1.0</td>\n      <td>2.0</td>\n      <td>0.0</td>\n      <td>0.0</td>\n      <td>0.0</td>\n      <td>0.0</td>\n      <td>6.0</td>\n      <td>117.0</td>\n      <td>46.0</td>\n      <td>2.0</td>\n      <td>4.0</td>\n      <td>9.0</td>\n      <td>0.0</td>\n      <td>0.0</td>\n      <td>0.0</td>\n      <td>0.0</td>\n    </tr>\n    <tr>\n      <th>3</th>\n      <td>34.0</td>\n      <td>0.0</td>\n      <td>0.0</td>\n      <td>3.0</td>\n      <td>0.0</td>\n      <td>0.0</td>\n      <td>0.0</td>\n      <td>3.0</td>\n      <td>25.0</td>\n      <td>2.0</td>\n      <td>0.0</td>\n      <td>1.0</td>\n      <td>0.0</td>\n      <td>0.0</td>\n      <td>0.0</td>\n      <td>0.0</td>\n      <td>0.0</td>\n    </tr>\n    <tr>\n      <th>4</th>\n      <td>231.0</td>\n      <td>0.0</td>\n      <td>0.0</td>\n      <td>2.0</td>\n      <td>0.0</td>\n      <td>0.0</td>\n      <td>0.0</td>\n      <td>1.0</td>\n      <td>202.0</td>\n      <td>18.0</td>\n      <td>8.0</td>\n      <td>0.0</td>\n      <td>0.0</td>\n      <td>0.0</td>\n      <td>0.0</td>\n      <td>0.0</td>\n      <td>0.0</td>\n    </tr>\n  </tbody>\n</table>\n</div>"
     },
     "metadata": {},
     "execution_count": 11
    }
   ],
   "source": [
    "csv.head()"
   ]
  },
  {
   "cell_type": "code",
   "execution_count": 17,
   "metadata": {},
   "outputs": [
    {
     "output_type": "error",
     "ename": "SyntaxError",
     "evalue": "EOL while scanning string literal (<ipython-input-17-dcbcffbe9939>, line 15)",
     "traceback": [
      "\u001b[0;36m  File \u001b[0;32m\"<ipython-input-17-dcbcffbe9939>\"\u001b[0;36m, line \u001b[0;32m15\u001b[0m\n\u001b[0;31m    y2019 = csv[\"2020220.sum()\u001b[0m\n\u001b[0m                              ^\u001b[0m\n\u001b[0;31mSyntaxError\u001b[0m\u001b[0;31m:\u001b[0m EOL while scanning string literal\n"
     ]
    }
   ],
   "source": [
    "jan = csv[\"20191\"].sum()\n",
    "feb = csv[\"20192\"].sum()\n",
    "mar = csv[\"20193\"].sum()\n",
    "apr = csv[\"20194\"].sum()\n",
    "may = csv[\"20195\"].sum()\n",
    "jun = csv[\"20196\"].sum()\n",
    "jul = csv[\"20197\"].sum()\n",
    "aug = csv[\"20198\"].sum()\n",
    "sep = csv[\"20199\"].sum()\n",
    "oct = csv[\"201910\"].sum()\n",
    "nov = csv[\"201911\"].sum()\n",
    "dec = csv[\"201912\"].sum()\n",
    "\n",
    "jan20 = csv[\"20201\"].sum()\n",
    "y2019 = csv[\"2020220.sum()\n",
    "mar20 = csv[\"20203\"].sum()\n",
    "91\"].sum()\n",
    "y2020 =csv[\"20191\"].sum()290"
   ]
  },
  {
   "cell_type": "code",
   "execution_count": 3,
   "metadata": {},
   "outputs": [
    {
     "output_type": "error",
     "ename": "SyntaxError",
     "evalue": "invalid syntax (<ipython-input-3-240fa6260067>, line 1)",
     "traceback": [
      "\u001b[0;36m  File \u001b[0;32m\"<ipython-input-3-240fa6260067>\"\u001b[0;36m, line \u001b[0;32m1\u001b[0m\n\u001b[0;31m    data = ['20191':jan, '20192':feb, '20193':mar, '20194':apr, '20195':may, '20196':jun, '20197':jul, '20198':aug, '20199':sep, '201910':oct, '201911':nov, '201912':dec, '2019':y2019, '2020':y2020]\u001b[0m\n\u001b[0m                   ^\u001b[0m\n\u001b[0;31mSyntaxError\u001b[0m\u001b[0;31m:\u001b[0m invalid syntax\n"
     ]
    }
   ],
   "source": [
    "data = ['20191':jan, '20192':feb, '20193':mar, '20194':apr, '20195':may, '20196':jun, '20197':jul, '20198':aug, '20199':sep, '201910':oct, '201911':nov, '201912':dec, '2019':y2019, '2020':y2020]"
   ]
  },
  {
   "cell_type": "code",
   "execution_count": 18,
   "metadata": {},
   "outputs": [
    {
     "output_type": "execute_result",
     "data": {
      "text/plain": "[[82.0],\n [115.0],\n [68.0],\n [63.0],\n [29.0],\n [262.0],\n [1083.0],\n [24657.0],\n [7478.0],\n [1604.0],\n [640.0],\n [439.0],\n [82.0],\n [82.0]]"
     },
     "metadata": {},
     "execution_count": 18
    }
   ],
   "source": []
  },
  {
   "cell_type": "code",
   "execution_count": 20,
   "metadata": {},
   "outputs": [],
   "source": [
    "df = pd.DataFrame(data, columns= ['20191','20192','20193','20194','20195','20196','20197','20198','20199','201910','201911','201912','2019', '2020'])"
   ]
  },
  {
   "cell_type": "code",
   "execution_count": 21,
   "metadata": {},
   "outputs": [
    {
     "output_type": "execute_result",
     "data": {
      "text/plain": "          0\n0      82.0\n1     115.0\n2      68.0\n3      63.0\n4      29.0\n5     262.0\n6    1083.0\n7   24657.0\n8    7478.0\n9    1604.0\n10    640.0\n11    439.0\n12     82.0\n13     82.0",
      "text/html": "<div>\n<style scoped>\n    .dataframe tbody tr th:only-of-type {\n        vertical-align: middle;\n    }\n\n    .dataframe tbody tr th {\n        vertical-align: top;\n    }\n\n    .dataframe thead th {\n        text-align: right;\n    }\n</style>\n<table border=\"1\" class=\"dataframe\">\n  <thead>\n    <tr style=\"text-align: right;\">\n      <th></th>\n      <th>0</th>\n    </tr>\n  </thead>\n  <tbody>\n    <tr>\n      <th>0</th>\n      <td>82.0</td>\n    </tr>\n    <tr>\n      <th>1</th>\n      <td>115.0</td>\n    </tr>\n    <tr>\n      <th>2</th>\n      <td>68.0</td>\n    </tr>\n    <tr>\n      <th>3</th>\n      <td>63.0</td>\n    </tr>\n    <tr>\n      <th>4</th>\n      <td>29.0</td>\n    </tr>\n    <tr>\n      <th>5</th>\n      <td>262.0</td>\n    </tr>\n    <tr>\n      <th>6</th>\n      <td>1083.0</td>\n    </tr>\n    <tr>\n      <th>7</th>\n      <td>24657.0</td>\n    </tr>\n    <tr>\n      <th>8</th>\n      <td>7478.0</td>\n    </tr>\n    <tr>\n      <th>9</th>\n      <td>1604.0</td>\n    </tr>\n    <tr>\n      <th>10</th>\n      <td>640.0</td>\n    </tr>\n    <tr>\n      <th>11</th>\n      <td>439.0</td>\n    </tr>\n    <tr>\n      <th>12</th>\n      <td>82.0</td>\n    </tr>\n    <tr>\n      <th>13</th>\n      <td>82.0</td>\n    </tr>\n  </tbody>\n</table>\n</div>"
     },
     "metadata": {},
     "execution_count": 21
    }
   ],
   "source": [
    "df"
   ]
  },
  {
   "cell_type": "code",
   "execution_count": null,
   "metadata": {},
   "outputs": [],
   "source": []
  }
 ]
}