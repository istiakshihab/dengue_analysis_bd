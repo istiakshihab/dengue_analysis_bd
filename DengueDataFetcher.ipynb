{
 "nbformat": 4,
 "nbformat_minor": 2,
 "metadata": {
  "language_info": {
   "name": "python",
   "codemirror_mode": {
    "name": "ipython",
    "version": 3
   },
   "version": "3.6.9-final"
  },
  "orig_nbformat": 2,
  "file_extension": ".py",
  "mimetype": "text/x-python",
  "name": "python",
  "npconvert_exporter": "python",
  "pygments_lexer": "ipython3",
  "version": 3,
  "kernelspec": {
   "name": "pycharm-833bc5f4",
   "display_name": "PyCharm (object_detection)"
  }
 },
 "cells": [
  {
   "cell_type": "code",
   "execution_count": 38,
   "metadata": {},
   "outputs": [],
   "source": [
    "import requests\n",
    "import pandas as pd"
   ]
  },
  {
   "cell_type": "code",
   "execution_count": 39,
   "metadata": {},
   "outputs": [],
   "source": [
    "url = \"http://dev.pipilika.com:5001/get_dengue_news?location=ঢাকা&start_date=2019-01-01&end_date=2019-01-05\""
   ]
  },
  {
   "cell_type": "markdown",
   "metadata": {},
   "source": [
    "request = requests.get(url)"
   ]
  },
  {
   "cell_type": "code",
   "execution_count": 40,
   "metadata": {},
   "outputs": [
    {
     "output_type": "execute_result",
     "data": {
      "text/plain": "2"
     },
     "metadata": {},
     "execution_count": 40
    }
   ],
   "source": [
    "requests.get(url).json()"
   ]
  },
  {
   "cell_type": "code",
   "execution_count": 41,
   "metadata": {},
   "outputs": [],
   "source": [
    "upazilas = pd.read_csv(\"upazilaEdited.csv\")"
   ]
  },
  {
   "cell_type": "code",
   "execution_count": 42,
   "metadata": {},
   "outputs": [
    {
     "output_type": "execute_result",
     "data": {
      "text/plain": "     Unnamed: 0   id   division   district  upazilaBangla\n0             0    1  চট্টগ্রাম   কুমিল্লা      দেবিদ্বার\n1             1    2  চট্টগ্রাম   কুমিল্লা         বরুড়া\n2             2    3  চট্টগ্রাম   কুমিল্লা  ব্রাহ্মণপাড়া\n3             3    4  চট্টগ্রাম   কুমিল্লা       চান্দিনা\n4             4    5  চট্টগ্রাম   কুমিল্লা     চৌদ্দগ্রাম\n..          ...  ...        ...        ...            ...\n486         486  487   ময়মনসিংহ  নেত্রকোণা     খালিয়াজুরী\n487         487  488   ময়মনসিংহ  নেত্রকোণা     কলমাকান্দা\n488         488  489   ময়মনসিংহ  নেত্রকোণা       মোহনগঞ্জ\n489         489  490   ময়মনসিংহ  নেত্রকোণা       পূর্বধলা\n490         490  491   ময়মনসিংহ  নেত্রকোণা  নেত্রকোণা সদর\n\n[491 rows x 5 columns]",
      "text/html": "<div>\n<style scoped>\n    .dataframe tbody tr th:only-of-type {\n        vertical-align: middle;\n    }\n\n    .dataframe tbody tr th {\n        vertical-align: top;\n    }\n\n    .dataframe thead th {\n        text-align: right;\n    }\n</style>\n<table border=\"1\" class=\"dataframe\">\n  <thead>\n    <tr style=\"text-align: right;\">\n      <th></th>\n      <th>Unnamed: 0</th>\n      <th>id</th>\n      <th>division</th>\n      <th>district</th>\n      <th>upazilaBangla</th>\n    </tr>\n  </thead>\n  <tbody>\n    <tr>\n      <th>0</th>\n      <td>0</td>\n      <td>1</td>\n      <td>চট্টগ্রাম</td>\n      <td>কুমিল্লা</td>\n      <td>দেবিদ্বার</td>\n    </tr>\n    <tr>\n      <th>1</th>\n      <td>1</td>\n      <td>2</td>\n      <td>চট্টগ্রাম</td>\n      <td>কুমিল্লা</td>\n      <td>বরুড়া</td>\n    </tr>\n    <tr>\n      <th>2</th>\n      <td>2</td>\n      <td>3</td>\n      <td>চট্টগ্রাম</td>\n      <td>কুমিল্লা</td>\n      <td>ব্রাহ্মণপাড়া</td>\n    </tr>\n    <tr>\n      <th>3</th>\n      <td>3</td>\n      <td>4</td>\n      <td>চট্টগ্রাম</td>\n      <td>কুমিল্লা</td>\n      <td>চান্দিনা</td>\n    </tr>\n    <tr>\n      <th>4</th>\n      <td>4</td>\n      <td>5</td>\n      <td>চট্টগ্রাম</td>\n      <td>কুমিল্লা</td>\n      <td>চৌদ্দগ্রাম</td>\n    </tr>\n    <tr>\n      <th>...</th>\n      <td>...</td>\n      <td>...</td>\n      <td>...</td>\n      <td>...</td>\n      <td>...</td>\n    </tr>\n    <tr>\n      <th>486</th>\n      <td>486</td>\n      <td>487</td>\n      <td>ময়মনসিংহ</td>\n      <td>নেত্রকোণা</td>\n      <td>খালিয়াজুরী</td>\n    </tr>\n    <tr>\n      <th>487</th>\n      <td>487</td>\n      <td>488</td>\n      <td>ময়মনসিংহ</td>\n      <td>নেত্রকোণা</td>\n      <td>কলমাকান্দা</td>\n    </tr>\n    <tr>\n      <th>488</th>\n      <td>488</td>\n      <td>489</td>\n      <td>ময়মনসিংহ</td>\n      <td>নেত্রকোণা</td>\n      <td>মোহনগঞ্জ</td>\n    </tr>\n    <tr>\n      <th>489</th>\n      <td>489</td>\n      <td>490</td>\n      <td>ময়মনসিংহ</td>\n      <td>নেত্রকোণা</td>\n      <td>পূর্বধলা</td>\n    </tr>\n    <tr>\n      <th>490</th>\n      <td>490</td>\n      <td>491</td>\n      <td>ময়মনসিংহ</td>\n      <td>নেত্রকোণা</td>\n      <td>নেত্রকোণা সদর</td>\n    </tr>\n  </tbody>\n</table>\n<p>491 rows × 5 columns</p>\n</div>"
     },
     "metadata": {},
     "execution_count": 42
    }
   ],
   "source": [
    "upazilas"
   ]
  },
  {
   "cell_type": "code",
   "execution_count": 43,
   "metadata": {},
   "outputs": [],
   "source": [
    "del upazilas['Unnamed: 0']"
   ]
  },
  {
   "cell_type": "code",
   "execution_count": 44,
   "metadata": {},
   "outputs": [
    {
     "output_type": "stream",
     "name": "stdout",
     "text": "0\n1\n2\n3\n4\n5\n6\n7\n8\n9\n10\n11\n12\n13\n14\n15\n16\n17\n18\n19\n20\n21\n22\n23\n24\n25\n26\n27\n28\n29\n30\n31\n32\n33\n34\n35\n36\n37\n38\n39\n40\n41\n42\n43\n44\n45\n46\n47\n48\n49\n50\n51\n52\n53\n54\n55\n56\n57\n58\n59\n60\n61\n62\n63\n64\n65\n66\n67\n68\n69\n70\n71\n72\n73\n"
    },
    {
     "output_type": "error",
     "ename": "KeyboardInterrupt",
     "evalue": "",
     "traceback": [
      "\u001b[0;31m---------------------------------------------------------------------------\u001b[0m",
      "\u001b[0;31mKeyboardInterrupt\u001b[0m                         Traceback (most recent call last)",
      "\u001b[0;32m<ipython-input-44-c02780e6c60f>\u001b[0m in \u001b[0;36m<module>\u001b[0;34m\u001b[0m\n\u001b[1;32m     17\u001b[0m \u001b[0;34m\u001b[0m\u001b[0m\n\u001b[1;32m     18\u001b[0m     \u001b[0murl2020\u001b[0m \u001b[0;34m=\u001b[0m \u001b[0;34m\"http://dev.pipilika.com:5001/get_dengue_news?location=\"\u001b[0m\u001b[0;34m+\u001b[0m\u001b[0mrow\u001b[0m\u001b[0;34m[\u001b[0m\u001b[0;34m'upazilaBangla'\u001b[0m\u001b[0;34m]\u001b[0m\u001b[0;34m+\u001b[0m\u001b[0;34m\"&start_date=2020-01-01&end_date=2020-03-31\"\u001b[0m\u001b[0;34m\u001b[0m\u001b[0;34m\u001b[0m\u001b[0m\n\u001b[0;32m---> 19\u001b[0;31m     \u001b[0mrequest2020\u001b[0m \u001b[0;34m=\u001b[0m \u001b[0mrequests\u001b[0m\u001b[0;34m.\u001b[0m\u001b[0mget\u001b[0m\u001b[0;34m(\u001b[0m\u001b[0murl2020\u001b[0m\u001b[0;34m)\u001b[0m\u001b[0;34m.\u001b[0m\u001b[0mjson\u001b[0m\u001b[0;34m(\u001b[0m\u001b[0;34m)\u001b[0m\u001b[0;34m\u001b[0m\u001b[0;34m\u001b[0m\u001b[0m\n\u001b[0m\u001b[1;32m     20\u001b[0m     \u001b[0mupazilas\u001b[0m\u001b[0;34m.\u001b[0m\u001b[0mloc\u001b[0m\u001b[0;34m[\u001b[0m\u001b[0mi\u001b[0m\u001b[0;34m,\u001b[0m\u001b[0;34m'2020'\u001b[0m\u001b[0;34m]\u001b[0m \u001b[0;34m=\u001b[0m \u001b[0mrequest2020\u001b[0m\u001b[0;34m\u001b[0m\u001b[0;34m\u001b[0m\u001b[0m\n\u001b[1;32m     21\u001b[0m \u001b[0;34m\u001b[0m\u001b[0m\n",
      "\u001b[0;32m~/.local/lib/python3.6/site-packages/requests/api.py\u001b[0m in \u001b[0;36mget\u001b[0;34m(url, params, **kwargs)\u001b[0m\n\u001b[1;32m     74\u001b[0m \u001b[0;34m\u001b[0m\u001b[0m\n\u001b[1;32m     75\u001b[0m     \u001b[0mkwargs\u001b[0m\u001b[0;34m.\u001b[0m\u001b[0msetdefault\u001b[0m\u001b[0;34m(\u001b[0m\u001b[0;34m'allow_redirects'\u001b[0m\u001b[0;34m,\u001b[0m \u001b[0;32mTrue\u001b[0m\u001b[0;34m)\u001b[0m\u001b[0;34m\u001b[0m\u001b[0;34m\u001b[0m\u001b[0m\n\u001b[0;32m---> 76\u001b[0;31m     \u001b[0;32mreturn\u001b[0m \u001b[0mrequest\u001b[0m\u001b[0;34m(\u001b[0m\u001b[0;34m'get'\u001b[0m\u001b[0;34m,\u001b[0m \u001b[0murl\u001b[0m\u001b[0;34m,\u001b[0m \u001b[0mparams\u001b[0m\u001b[0;34m=\u001b[0m\u001b[0mparams\u001b[0m\u001b[0;34m,\u001b[0m \u001b[0;34m**\u001b[0m\u001b[0mkwargs\u001b[0m\u001b[0;34m)\u001b[0m\u001b[0;34m\u001b[0m\u001b[0;34m\u001b[0m\u001b[0m\n\u001b[0m\u001b[1;32m     77\u001b[0m \u001b[0;34m\u001b[0m\u001b[0m\n\u001b[1;32m     78\u001b[0m \u001b[0;34m\u001b[0m\u001b[0m\n",
      "\u001b[0;32m~/.local/lib/python3.6/site-packages/requests/api.py\u001b[0m in \u001b[0;36mrequest\u001b[0;34m(method, url, **kwargs)\u001b[0m\n\u001b[1;32m     59\u001b[0m     \u001b[0;31m# cases, and look like a memory leak in others.\u001b[0m\u001b[0;34m\u001b[0m\u001b[0;34m\u001b[0m\u001b[0;34m\u001b[0m\u001b[0m\n\u001b[1;32m     60\u001b[0m     \u001b[0;32mwith\u001b[0m \u001b[0msessions\u001b[0m\u001b[0;34m.\u001b[0m\u001b[0mSession\u001b[0m\u001b[0;34m(\u001b[0m\u001b[0;34m)\u001b[0m \u001b[0;32mas\u001b[0m \u001b[0msession\u001b[0m\u001b[0;34m:\u001b[0m\u001b[0;34m\u001b[0m\u001b[0;34m\u001b[0m\u001b[0m\n\u001b[0;32m---> 61\u001b[0;31m         \u001b[0;32mreturn\u001b[0m \u001b[0msession\u001b[0m\u001b[0;34m.\u001b[0m\u001b[0mrequest\u001b[0m\u001b[0;34m(\u001b[0m\u001b[0mmethod\u001b[0m\u001b[0;34m=\u001b[0m\u001b[0mmethod\u001b[0m\u001b[0;34m,\u001b[0m \u001b[0murl\u001b[0m\u001b[0;34m=\u001b[0m\u001b[0murl\u001b[0m\u001b[0;34m,\u001b[0m \u001b[0;34m**\u001b[0m\u001b[0mkwargs\u001b[0m\u001b[0;34m)\u001b[0m\u001b[0;34m\u001b[0m\u001b[0;34m\u001b[0m\u001b[0m\n\u001b[0m\u001b[1;32m     62\u001b[0m \u001b[0;34m\u001b[0m\u001b[0m\n\u001b[1;32m     63\u001b[0m \u001b[0;34m\u001b[0m\u001b[0m\n",
      "\u001b[0;32m~/.local/lib/python3.6/site-packages/requests/sessions.py\u001b[0m in \u001b[0;36mrequest\u001b[0;34m(self, method, url, params, data, headers, cookies, files, auth, timeout, allow_redirects, proxies, hooks, stream, verify, cert, json)\u001b[0m\n\u001b[1;32m    528\u001b[0m         }\n\u001b[1;32m    529\u001b[0m         \u001b[0msend_kwargs\u001b[0m\u001b[0;34m.\u001b[0m\u001b[0mupdate\u001b[0m\u001b[0;34m(\u001b[0m\u001b[0msettings\u001b[0m\u001b[0;34m)\u001b[0m\u001b[0;34m\u001b[0m\u001b[0;34m\u001b[0m\u001b[0m\n\u001b[0;32m--> 530\u001b[0;31m         \u001b[0mresp\u001b[0m \u001b[0;34m=\u001b[0m \u001b[0mself\u001b[0m\u001b[0;34m.\u001b[0m\u001b[0msend\u001b[0m\u001b[0;34m(\u001b[0m\u001b[0mprep\u001b[0m\u001b[0;34m,\u001b[0m \u001b[0;34m**\u001b[0m\u001b[0msend_kwargs\u001b[0m\u001b[0;34m)\u001b[0m\u001b[0;34m\u001b[0m\u001b[0;34m\u001b[0m\u001b[0m\n\u001b[0m\u001b[1;32m    531\u001b[0m \u001b[0;34m\u001b[0m\u001b[0m\n\u001b[1;32m    532\u001b[0m         \u001b[0;32mreturn\u001b[0m \u001b[0mresp\u001b[0m\u001b[0;34m\u001b[0m\u001b[0;34m\u001b[0m\u001b[0m\n",
      "\u001b[0;32m~/.local/lib/python3.6/site-packages/requests/sessions.py\u001b[0m in \u001b[0;36msend\u001b[0;34m(self, request, **kwargs)\u001b[0m\n\u001b[1;32m    641\u001b[0m \u001b[0;34m\u001b[0m\u001b[0m\n\u001b[1;32m    642\u001b[0m         \u001b[0;31m# Send the request\u001b[0m\u001b[0;34m\u001b[0m\u001b[0;34m\u001b[0m\u001b[0;34m\u001b[0m\u001b[0m\n\u001b[0;32m--> 643\u001b[0;31m         \u001b[0mr\u001b[0m \u001b[0;34m=\u001b[0m \u001b[0madapter\u001b[0m\u001b[0;34m.\u001b[0m\u001b[0msend\u001b[0m\u001b[0;34m(\u001b[0m\u001b[0mrequest\u001b[0m\u001b[0;34m,\u001b[0m \u001b[0;34m**\u001b[0m\u001b[0mkwargs\u001b[0m\u001b[0;34m)\u001b[0m\u001b[0;34m\u001b[0m\u001b[0;34m\u001b[0m\u001b[0m\n\u001b[0m\u001b[1;32m    644\u001b[0m \u001b[0;34m\u001b[0m\u001b[0m\n\u001b[1;32m    645\u001b[0m         \u001b[0;31m# Total elapsed time of the request (approximately)\u001b[0m\u001b[0;34m\u001b[0m\u001b[0;34m\u001b[0m\u001b[0;34m\u001b[0m\u001b[0m\n",
      "\u001b[0;32m~/.local/lib/python3.6/site-packages/requests/adapters.py\u001b[0m in \u001b[0;36msend\u001b[0;34m(self, request, stream, timeout, verify, cert, proxies)\u001b[0m\n\u001b[1;32m    447\u001b[0m                     \u001b[0mdecode_content\u001b[0m\u001b[0;34m=\u001b[0m\u001b[0;32mFalse\u001b[0m\u001b[0;34m,\u001b[0m\u001b[0;34m\u001b[0m\u001b[0;34m\u001b[0m\u001b[0m\n\u001b[1;32m    448\u001b[0m                     \u001b[0mretries\u001b[0m\u001b[0;34m=\u001b[0m\u001b[0mself\u001b[0m\u001b[0;34m.\u001b[0m\u001b[0mmax_retries\u001b[0m\u001b[0;34m,\u001b[0m\u001b[0;34m\u001b[0m\u001b[0;34m\u001b[0m\u001b[0m\n\u001b[0;32m--> 449\u001b[0;31m                     \u001b[0mtimeout\u001b[0m\u001b[0;34m=\u001b[0m\u001b[0mtimeout\u001b[0m\u001b[0;34m\u001b[0m\u001b[0;34m\u001b[0m\u001b[0m\n\u001b[0m\u001b[1;32m    450\u001b[0m                 )\n\u001b[1;32m    451\u001b[0m \u001b[0;34m\u001b[0m\u001b[0m\n",
      "\u001b[0;32m~/.local/lib/python3.6/site-packages/urllib3/connectionpool.py\u001b[0m in \u001b[0;36murlopen\u001b[0;34m(self, method, url, body, headers, retries, redirect, assert_same_host, timeout, pool_timeout, release_conn, chunked, body_pos, **response_kw)\u001b[0m\n\u001b[1;32m    670\u001b[0m                 \u001b[0mbody\u001b[0m\u001b[0;34m=\u001b[0m\u001b[0mbody\u001b[0m\u001b[0;34m,\u001b[0m\u001b[0;34m\u001b[0m\u001b[0;34m\u001b[0m\u001b[0m\n\u001b[1;32m    671\u001b[0m                 \u001b[0mheaders\u001b[0m\u001b[0;34m=\u001b[0m\u001b[0mheaders\u001b[0m\u001b[0;34m,\u001b[0m\u001b[0;34m\u001b[0m\u001b[0;34m\u001b[0m\u001b[0m\n\u001b[0;32m--> 672\u001b[0;31m                 \u001b[0mchunked\u001b[0m\u001b[0;34m=\u001b[0m\u001b[0mchunked\u001b[0m\u001b[0;34m,\u001b[0m\u001b[0;34m\u001b[0m\u001b[0;34m\u001b[0m\u001b[0m\n\u001b[0m\u001b[1;32m    673\u001b[0m             )\n\u001b[1;32m    674\u001b[0m \u001b[0;34m\u001b[0m\u001b[0m\n",
      "\u001b[0;32m~/.local/lib/python3.6/site-packages/urllib3/connectionpool.py\u001b[0m in \u001b[0;36m_make_request\u001b[0;34m(self, conn, method, url, timeout, chunked, **httplib_request_kw)\u001b[0m\n\u001b[1;32m    419\u001b[0m                     \u001b[0;31m# Python 3 (including for exceptions like SystemExit).\u001b[0m\u001b[0;34m\u001b[0m\u001b[0;34m\u001b[0m\u001b[0;34m\u001b[0m\u001b[0m\n\u001b[1;32m    420\u001b[0m                     \u001b[0;31m# Otherwise it looks like a bug in the code.\u001b[0m\u001b[0;34m\u001b[0m\u001b[0;34m\u001b[0m\u001b[0;34m\u001b[0m\u001b[0m\n\u001b[0;32m--> 421\u001b[0;31m                     \u001b[0msix\u001b[0m\u001b[0;34m.\u001b[0m\u001b[0mraise_from\u001b[0m\u001b[0;34m(\u001b[0m\u001b[0me\u001b[0m\u001b[0;34m,\u001b[0m \u001b[0;32mNone\u001b[0m\u001b[0;34m)\u001b[0m\u001b[0;34m\u001b[0m\u001b[0;34m\u001b[0m\u001b[0m\n\u001b[0m\u001b[1;32m    422\u001b[0m         \u001b[0;32mexcept\u001b[0m \u001b[0;34m(\u001b[0m\u001b[0mSocketTimeout\u001b[0m\u001b[0;34m,\u001b[0m \u001b[0mBaseSSLError\u001b[0m\u001b[0;34m,\u001b[0m \u001b[0mSocketError\u001b[0m\u001b[0;34m)\u001b[0m \u001b[0;32mas\u001b[0m \u001b[0me\u001b[0m\u001b[0;34m:\u001b[0m\u001b[0;34m\u001b[0m\u001b[0;34m\u001b[0m\u001b[0m\n\u001b[1;32m    423\u001b[0m             \u001b[0mself\u001b[0m\u001b[0;34m.\u001b[0m\u001b[0m_raise_timeout\u001b[0m\u001b[0;34m(\u001b[0m\u001b[0merr\u001b[0m\u001b[0;34m=\u001b[0m\u001b[0me\u001b[0m\u001b[0;34m,\u001b[0m \u001b[0murl\u001b[0m\u001b[0;34m=\u001b[0m\u001b[0murl\u001b[0m\u001b[0;34m,\u001b[0m \u001b[0mtimeout_value\u001b[0m\u001b[0;34m=\u001b[0m\u001b[0mread_timeout\u001b[0m\u001b[0;34m)\u001b[0m\u001b[0;34m\u001b[0m\u001b[0;34m\u001b[0m\u001b[0m\n",
      "\u001b[0;32m~/.local/lib/python3.6/site-packages/urllib3/packages/six.py\u001b[0m in \u001b[0;36mraise_from\u001b[0;34m(value, from_value)\u001b[0m\n",
      "\u001b[0;32m~/.local/lib/python3.6/site-packages/urllib3/connectionpool.py\u001b[0m in \u001b[0;36m_make_request\u001b[0;34m(self, conn, method, url, timeout, chunked, **httplib_request_kw)\u001b[0m\n\u001b[1;32m    414\u001b[0m                 \u001b[0;31m# Python 3\u001b[0m\u001b[0;34m\u001b[0m\u001b[0;34m\u001b[0m\u001b[0;34m\u001b[0m\u001b[0m\n\u001b[1;32m    415\u001b[0m                 \u001b[0;32mtry\u001b[0m\u001b[0;34m:\u001b[0m\u001b[0;34m\u001b[0m\u001b[0;34m\u001b[0m\u001b[0m\n\u001b[0;32m--> 416\u001b[0;31m                     \u001b[0mhttplib_response\u001b[0m \u001b[0;34m=\u001b[0m \u001b[0mconn\u001b[0m\u001b[0;34m.\u001b[0m\u001b[0mgetresponse\u001b[0m\u001b[0;34m(\u001b[0m\u001b[0;34m)\u001b[0m\u001b[0;34m\u001b[0m\u001b[0;34m\u001b[0m\u001b[0m\n\u001b[0m\u001b[1;32m    417\u001b[0m                 \u001b[0;32mexcept\u001b[0m \u001b[0mBaseException\u001b[0m \u001b[0;32mas\u001b[0m \u001b[0me\u001b[0m\u001b[0;34m:\u001b[0m\u001b[0;34m\u001b[0m\u001b[0;34m\u001b[0m\u001b[0m\n\u001b[1;32m    418\u001b[0m                     \u001b[0;31m# Remove the TypeError from the exception chain in\u001b[0m\u001b[0;34m\u001b[0m\u001b[0;34m\u001b[0m\u001b[0;34m\u001b[0m\u001b[0m\n",
      "\u001b[0;32m/usr/lib/python3.6/http/client.py\u001b[0m in \u001b[0;36mgetresponse\u001b[0;34m(self)\u001b[0m\n\u001b[1;32m   1344\u001b[0m         \u001b[0;32mtry\u001b[0m\u001b[0;34m:\u001b[0m\u001b[0;34m\u001b[0m\u001b[0;34m\u001b[0m\u001b[0m\n\u001b[1;32m   1345\u001b[0m             \u001b[0;32mtry\u001b[0m\u001b[0;34m:\u001b[0m\u001b[0;34m\u001b[0m\u001b[0;34m\u001b[0m\u001b[0m\n\u001b[0;32m-> 1346\u001b[0;31m                 \u001b[0mresponse\u001b[0m\u001b[0;34m.\u001b[0m\u001b[0mbegin\u001b[0m\u001b[0;34m(\u001b[0m\u001b[0;34m)\u001b[0m\u001b[0;34m\u001b[0m\u001b[0;34m\u001b[0m\u001b[0m\n\u001b[0m\u001b[1;32m   1347\u001b[0m             \u001b[0;32mexcept\u001b[0m \u001b[0mConnectionError\u001b[0m\u001b[0;34m:\u001b[0m\u001b[0;34m\u001b[0m\u001b[0;34m\u001b[0m\u001b[0m\n\u001b[1;32m   1348\u001b[0m                 \u001b[0mself\u001b[0m\u001b[0;34m.\u001b[0m\u001b[0mclose\u001b[0m\u001b[0;34m(\u001b[0m\u001b[0;34m)\u001b[0m\u001b[0;34m\u001b[0m\u001b[0;34m\u001b[0m\u001b[0m\n",
      "\u001b[0;32m/usr/lib/python3.6/http/client.py\u001b[0m in \u001b[0;36mbegin\u001b[0;34m(self)\u001b[0m\n\u001b[1;32m    305\u001b[0m         \u001b[0;31m# read until we get a non-100 response\u001b[0m\u001b[0;34m\u001b[0m\u001b[0;34m\u001b[0m\u001b[0;34m\u001b[0m\u001b[0m\n\u001b[1;32m    306\u001b[0m         \u001b[0;32mwhile\u001b[0m \u001b[0;32mTrue\u001b[0m\u001b[0;34m:\u001b[0m\u001b[0;34m\u001b[0m\u001b[0;34m\u001b[0m\u001b[0m\n\u001b[0;32m--> 307\u001b[0;31m             \u001b[0mversion\u001b[0m\u001b[0;34m,\u001b[0m \u001b[0mstatus\u001b[0m\u001b[0;34m,\u001b[0m \u001b[0mreason\u001b[0m \u001b[0;34m=\u001b[0m \u001b[0mself\u001b[0m\u001b[0;34m.\u001b[0m\u001b[0m_read_status\u001b[0m\u001b[0;34m(\u001b[0m\u001b[0;34m)\u001b[0m\u001b[0;34m\u001b[0m\u001b[0;34m\u001b[0m\u001b[0m\n\u001b[0m\u001b[1;32m    308\u001b[0m             \u001b[0;32mif\u001b[0m \u001b[0mstatus\u001b[0m \u001b[0;34m!=\u001b[0m \u001b[0mCONTINUE\u001b[0m\u001b[0;34m:\u001b[0m\u001b[0;34m\u001b[0m\u001b[0;34m\u001b[0m\u001b[0m\n\u001b[1;32m    309\u001b[0m                 \u001b[0;32mbreak\u001b[0m\u001b[0;34m\u001b[0m\u001b[0;34m\u001b[0m\u001b[0m\n",
      "\u001b[0;32m/usr/lib/python3.6/http/client.py\u001b[0m in \u001b[0;36m_read_status\u001b[0;34m(self)\u001b[0m\n\u001b[1;32m    266\u001b[0m \u001b[0;34m\u001b[0m\u001b[0m\n\u001b[1;32m    267\u001b[0m     \u001b[0;32mdef\u001b[0m \u001b[0m_read_status\u001b[0m\u001b[0;34m(\u001b[0m\u001b[0mself\u001b[0m\u001b[0;34m)\u001b[0m\u001b[0;34m:\u001b[0m\u001b[0;34m\u001b[0m\u001b[0;34m\u001b[0m\u001b[0m\n\u001b[0;32m--> 268\u001b[0;31m         \u001b[0mline\u001b[0m \u001b[0;34m=\u001b[0m \u001b[0mstr\u001b[0m\u001b[0;34m(\u001b[0m\u001b[0mself\u001b[0m\u001b[0;34m.\u001b[0m\u001b[0mfp\u001b[0m\u001b[0;34m.\u001b[0m\u001b[0mreadline\u001b[0m\u001b[0;34m(\u001b[0m\u001b[0m_MAXLINE\u001b[0m \u001b[0;34m+\u001b[0m \u001b[0;36m1\u001b[0m\u001b[0;34m)\u001b[0m\u001b[0;34m,\u001b[0m \u001b[0;34m\"iso-8859-1\"\u001b[0m\u001b[0;34m)\u001b[0m\u001b[0;34m\u001b[0m\u001b[0;34m\u001b[0m\u001b[0m\n\u001b[0m\u001b[1;32m    269\u001b[0m         \u001b[0;32mif\u001b[0m \u001b[0mlen\u001b[0m\u001b[0;34m(\u001b[0m\u001b[0mline\u001b[0m\u001b[0;34m)\u001b[0m \u001b[0;34m>\u001b[0m \u001b[0m_MAXLINE\u001b[0m\u001b[0;34m:\u001b[0m\u001b[0;34m\u001b[0m\u001b[0;34m\u001b[0m\u001b[0m\n\u001b[1;32m    270\u001b[0m             \u001b[0;32mraise\u001b[0m \u001b[0mLineTooLong\u001b[0m\u001b[0;34m(\u001b[0m\u001b[0;34m\"status line\"\u001b[0m\u001b[0;34m)\u001b[0m\u001b[0;34m\u001b[0m\u001b[0;34m\u001b[0m\u001b[0m\n",
      "\u001b[0;32m/usr/lib/python3.6/socket.py\u001b[0m in \u001b[0;36mreadinto\u001b[0;34m(self, b)\u001b[0m\n\u001b[1;32m    584\u001b[0m         \u001b[0;32mwhile\u001b[0m \u001b[0;32mTrue\u001b[0m\u001b[0;34m:\u001b[0m\u001b[0;34m\u001b[0m\u001b[0;34m\u001b[0m\u001b[0m\n\u001b[1;32m    585\u001b[0m             \u001b[0;32mtry\u001b[0m\u001b[0;34m:\u001b[0m\u001b[0;34m\u001b[0m\u001b[0;34m\u001b[0m\u001b[0m\n\u001b[0;32m--> 586\u001b[0;31m                 \u001b[0;32mreturn\u001b[0m \u001b[0mself\u001b[0m\u001b[0;34m.\u001b[0m\u001b[0m_sock\u001b[0m\u001b[0;34m.\u001b[0m\u001b[0mrecv_into\u001b[0m\u001b[0;34m(\u001b[0m\u001b[0mb\u001b[0m\u001b[0;34m)\u001b[0m\u001b[0;34m\u001b[0m\u001b[0;34m\u001b[0m\u001b[0m\n\u001b[0m\u001b[1;32m    587\u001b[0m             \u001b[0;32mexcept\u001b[0m \u001b[0mtimeout\u001b[0m\u001b[0;34m:\u001b[0m\u001b[0;34m\u001b[0m\u001b[0;34m\u001b[0m\u001b[0m\n\u001b[1;32m    588\u001b[0m                 \u001b[0mself\u001b[0m\u001b[0;34m.\u001b[0m\u001b[0m_timeout_occurred\u001b[0m \u001b[0;34m=\u001b[0m \u001b[0;32mTrue\u001b[0m\u001b[0;34m\u001b[0m\u001b[0;34m\u001b[0m\u001b[0m\n",
      "\u001b[0;31mKeyboardInterrupt\u001b[0m: "
     ]
    }
   ],
   "source": [
    "for i,row in upazilas.iterrows():\n",
    "    url2019  = \"http://dev.pipilika.com:5001/get_dengue_news?location=\"+row['upazilaBangla']+\"&start_date=2019-01-01&end_date=2019-12-31\"\n",
    "    url20191 = \"http://dev.pipilika.com:5001/get_dengue_news?location=\"+row['upazilaBangla']+\"&start_date=2019-01-01&end_date=2019-03-31\"\n",
    "    url20192 = \"http://dev.pipilika.com:5001/get_dengue_news?location=\"+row['upazilaBangla']+\"&start_date=2019-04-01&end_date=2019-06-31\"\n",
    "    url20193 = \"http://dev.pipilika.com:5001/get_dengue_news?location=\"+row['upazilaBangla']+\"&start_date=2019-07-01&end_date=2019-09-31\"\n",
    "    url20194 = \"http://dev.pipilika.com:5001/get_dengue_news?location=\"+row['upazilaBangla']+\"&start_date=2019-10-01&end_date=2019-12-31\"\n",
    "    request2019  = requests.get(url2019).json()\n",
    "    upazilas.loc[i,'2019']  = request2019\n",
    "    # request20191 = requests.get(url20191).json()\n",
    "    # upazilas.loc[i,'20191'] = request20191\n",
    "    # request20192 = requests.get(url20192).json()\n",
    "    # upazilas.loc[i,'20192'] = request20192\n",
    "    # request20193 = requests.get(url20193).json()\n",
    "    # upazilas.loc[i,'20193'] = request20193\n",
    "    # request20194 = requests.get(url20194).json()    \n",
    "    # upazilas.loc[i,'20194'] = request20194\n",
    "    \n",
    "    url2020 = \"http://dev.pipilika.com:5001/get_dengue_news?location=\"+row['upazilaBangla']+\"&start_date=2020-01-01&end_date=2020-03-31\"\n",
    "    request2020 = requests.get(url2020).json()\n",
    "    upazilas.loc[i,'2020'] = request2020\n",
    "    \n",
    "    print(i)\n",
    ""
   ]
  },
  {
   "cell_type": "code",
   "execution_count": 17,
   "metadata": {},
   "outputs": [
    {
     "output_type": "execute_result",
     "data": {
      "text/plain": "      id   division   district  upazilaBangla\n0      1  চট্টগ্রাম   কুমিল্লা      দেবিদ্বার\n1      2  চট্টগ্রাম   কুমিল্লা         বরুড়া\n2      3  চট্টগ্রাম   কুমিল্লা  ব্রাহ্মণপাড়া\n3      4  চট্টগ্রাম   কুমিল্লা       চান্দিনা\n4      5  চট্টগ্রাম   কুমিল্লা     চৌদ্দগ্রাম\n..   ...        ...        ...            ...\n486  487   ময়মনসিংহ  নেত্রকোণা     খালিয়াজুরী\n487  488   ময়মনসিংহ  নেত্রকোণা     কলমাকান্দা\n488  489   ময়মনসিংহ  নেত্রকোণা       মোহনগঞ্জ\n489  490   ময়মনসিংহ  নেত্রকোণা       পূর্বধলা\n490  491   ময়মনসিংহ  নেত্রকোণা  নেত্রকোণা সদর\n\n[491 rows x 4 columns]",
      "text/html": "<div>\n<style scoped>\n    .dataframe tbody tr th:only-of-type {\n        vertical-align: middle;\n    }\n\n    .dataframe tbody tr th {\n        vertical-align: top;\n    }\n\n    .dataframe thead th {\n        text-align: right;\n    }\n</style>\n<table border=\"1\" class=\"dataframe\">\n  <thead>\n    <tr style=\"text-align: right;\">\n      <th></th>\n      <th>id</th>\n      <th>division</th>\n      <th>district</th>\n      <th>upazilaBangla</th>\n    </tr>\n  </thead>\n  <tbody>\n    <tr>\n      <th>0</th>\n      <td>1</td>\n      <td>চট্টগ্রাম</td>\n      <td>কুমিল্লা</td>\n      <td>দেবিদ্বার</td>\n    </tr>\n    <tr>\n      <th>1</th>\n      <td>2</td>\n      <td>চট্টগ্রাম</td>\n      <td>কুমিল্লা</td>\n      <td>বরুড়া</td>\n    </tr>\n    <tr>\n      <th>2</th>\n      <td>3</td>\n      <td>চট্টগ্রাম</td>\n      <td>কুমিল্লা</td>\n      <td>ব্রাহ্মণপাড়া</td>\n    </tr>\n    <tr>\n      <th>3</th>\n      <td>4</td>\n      <td>চট্টগ্রাম</td>\n      <td>কুমিল্লা</td>\n      <td>চান্দিনা</td>\n    </tr>\n    <tr>\n      <th>4</th>\n      <td>5</td>\n      <td>চট্টগ্রাম</td>\n      <td>কুমিল্লা</td>\n      <td>চৌদ্দগ্রাম</td>\n    </tr>\n    <tr>\n      <th>...</th>\n      <td>...</td>\n      <td>...</td>\n      <td>...</td>\n      <td>...</td>\n    </tr>\n    <tr>\n      <th>486</th>\n      <td>487</td>\n      <td>ময়মনসিংহ</td>\n      <td>নেত্রকোণা</td>\n      <td>খালিয়াজুরী</td>\n    </tr>\n    <tr>\n      <th>487</th>\n      <td>488</td>\n      <td>ময়মনসিংহ</td>\n      <td>নেত্রকোণা</td>\n      <td>কলমাকান্দা</td>\n    </tr>\n    <tr>\n      <th>488</th>\n      <td>489</td>\n      <td>ময়মনসিংহ</td>\n      <td>নেত্রকোণা</td>\n      <td>মোহনগঞ্জ</td>\n    </tr>\n    <tr>\n      <th>489</th>\n      <td>490</td>\n      <td>ময়মনসিংহ</td>\n      <td>নেত্রকোণা</td>\n      <td>পূর্বধলা</td>\n    </tr>\n    <tr>\n      <th>490</th>\n      <td>491</td>\n      <td>ময়মনসিংহ</td>\n      <td>নেত্রকোণা</td>\n      <td>নেত্রকোণা সদর</td>\n    </tr>\n  </tbody>\n</table>\n<p>491 rows × 4 columns</p>\n</div>"
     },
     "metadata": {},
     "execution_count": 17
    }
   ],
   "source": [
    "upazilas"
   ]
  },
  {
   "cell_type": "code",
   "execution_count": 47,
   "metadata": {},
   "outputs": [],
   "source": [
    "districts = pd.read_csv(\"districts.csv\",names=[\"id\",\"division\",\"eng\",\"bang\",\"lats\",\"longs\",\"web\"])"
   ]
  },
  {
   "cell_type": "code",
   "execution_count": 48,
   "metadata": {},
   "outputs": [
    {
     "output_type": "execute_result",
     "data": {
      "text/plain": "    id  division           eng              bang       lats      longs  \\\n0    1         1       Comilla          কুমিল্লা  23.468275  91.178814   \n1    2         1          Feni              ফেনী  23.023231  91.384084   \n2    3         1  Brahmanbaria  ব্রাহ্মণবাড়িয়া  23.957090  91.111929   \n3    4         1     Rangamati        রাঙ্গামাটি        NaN        NaN   \n4    5         1      Noakhali         নোয়াখালী  22.869563  91.099398   \n..  ..       ...           ...               ...        ...        ...   \n59  60         7      Kurigram         কুড়িগ্রাম  25.805445  89.636174   \n60  61         8       Sherpur            শেরপুর  25.020493  90.015297   \n61  62         8    Mymensingh          ময়মনসিংহ        NaN        NaN   \n62  63         8      Jamalpur          জামালপুর  24.937533  89.937775   \n63  64         8     Netrokona         নেত্রকোণা  24.870955  90.727887   \n\n                        web  \n0        www.comilla.gov.bd  \n1           www.feni.gov.bd  \n2   www.brahmanbaria.gov.bd  \n3      www.rangamati.gov.bd  \n4       www.noakhali.gov.bd  \n..                      ...  \n59      www.kurigram.gov.bd  \n60       www.sherpur.gov.bd  \n61    www.mymensingh.gov.bd  \n62      www.jamalpur.gov.bd  \n63     www.netrokona.gov.bd  \n\n[64 rows x 7 columns]",
      "text/html": "<div>\n<style scoped>\n    .dataframe tbody tr th:only-of-type {\n        vertical-align: middle;\n    }\n\n    .dataframe tbody tr th {\n        vertical-align: top;\n    }\n\n    .dataframe thead th {\n        text-align: right;\n    }\n</style>\n<table border=\"1\" class=\"dataframe\">\n  <thead>\n    <tr style=\"text-align: right;\">\n      <th></th>\n      <th>id</th>\n      <th>division</th>\n      <th>eng</th>\n      <th>bang</th>\n      <th>lats</th>\n      <th>longs</th>\n      <th>web</th>\n    </tr>\n  </thead>\n  <tbody>\n    <tr>\n      <th>0</th>\n      <td>1</td>\n      <td>1</td>\n      <td>Comilla</td>\n      <td>কুমিল্লা</td>\n      <td>23.468275</td>\n      <td>91.178814</td>\n      <td>www.comilla.gov.bd</td>\n    </tr>\n    <tr>\n      <th>1</th>\n      <td>2</td>\n      <td>1</td>\n      <td>Feni</td>\n      <td>ফেনী</td>\n      <td>23.023231</td>\n      <td>91.384084</td>\n      <td>www.feni.gov.bd</td>\n    </tr>\n    <tr>\n      <th>2</th>\n      <td>3</td>\n      <td>1</td>\n      <td>Brahmanbaria</td>\n      <td>ব্রাহ্মণবাড়িয়া</td>\n      <td>23.957090</td>\n      <td>91.111929</td>\n      <td>www.brahmanbaria.gov.bd</td>\n    </tr>\n    <tr>\n      <th>3</th>\n      <td>4</td>\n      <td>1</td>\n      <td>Rangamati</td>\n      <td>রাঙ্গামাটি</td>\n      <td>NaN</td>\n      <td>NaN</td>\n      <td>www.rangamati.gov.bd</td>\n    </tr>\n    <tr>\n      <th>4</th>\n      <td>5</td>\n      <td>1</td>\n      <td>Noakhali</td>\n      <td>নোয়াখালী</td>\n      <td>22.869563</td>\n      <td>91.099398</td>\n      <td>www.noakhali.gov.bd</td>\n    </tr>\n    <tr>\n      <th>...</th>\n      <td>...</td>\n      <td>...</td>\n      <td>...</td>\n      <td>...</td>\n      <td>...</td>\n      <td>...</td>\n      <td>...</td>\n    </tr>\n    <tr>\n      <th>59</th>\n      <td>60</td>\n      <td>7</td>\n      <td>Kurigram</td>\n      <td>কুড়িগ্রাম</td>\n      <td>25.805445</td>\n      <td>89.636174</td>\n      <td>www.kurigram.gov.bd</td>\n    </tr>\n    <tr>\n      <th>60</th>\n      <td>61</td>\n      <td>8</td>\n      <td>Sherpur</td>\n      <td>শেরপুর</td>\n      <td>25.020493</td>\n      <td>90.015297</td>\n      <td>www.sherpur.gov.bd</td>\n    </tr>\n    <tr>\n      <th>61</th>\n      <td>62</td>\n      <td>8</td>\n      <td>Mymensingh</td>\n      <td>ময়মনসিংহ</td>\n      <td>NaN</td>\n      <td>NaN</td>\n      <td>www.mymensingh.gov.bd</td>\n    </tr>\n    <tr>\n      <th>62</th>\n      <td>63</td>\n      <td>8</td>\n      <td>Jamalpur</td>\n      <td>জামালপুর</td>\n      <td>24.937533</td>\n      <td>89.937775</td>\n      <td>www.jamalpur.gov.bd</td>\n    </tr>\n    <tr>\n      <th>63</th>\n      <td>64</td>\n      <td>8</td>\n      <td>Netrokona</td>\n      <td>নেত্রকোণা</td>\n      <td>24.870955</td>\n      <td>90.727887</td>\n      <td>www.netrokona.gov.bd</td>\n    </tr>\n  </tbody>\n</table>\n<p>64 rows × 7 columns</p>\n</div>"
     },
     "metadata": {},
     "execution_count": 48
    }
   ],
   "source": [
    "districts"
   ]
  },
  {
   "cell_type": "code",
   "execution_count": 49,
   "metadata": {},
   "outputs": [],
   "source": [
    "del districts[\"eng\"]\n",
    "del districts[\"lats\"]\n",
    "del districts[\"longs\"]\n",
    "del districts[\"web\"]"
   ]
  },
  {
   "cell_type": "code",
   "execution_count": 50,
   "metadata": {},
   "outputs": [
    {
     "output_type": "execute_result",
     "data": {
      "text/plain": "    id  division              bang\n0    1         1          কুমিল্লা\n1    2         1              ফেনী\n2    3         1  ব্রাহ্মণবাড়িয়া\n3    4         1        রাঙ্গামাটি\n4    5         1         নোয়াখালী\n..  ..       ...               ...\n59  60         7         কুড়িগ্রাম\n60  61         8            শেরপুর\n61  62         8          ময়মনসিংহ\n62  63         8          জামালপুর\n63  64         8         নেত্রকোণা\n\n[64 rows x 3 columns]",
      "text/html": "<div>\n<style scoped>\n    .dataframe tbody tr th:only-of-type {\n        vertical-align: middle;\n    }\n\n    .dataframe tbody tr th {\n        vertical-align: top;\n    }\n\n    .dataframe thead th {\n        text-align: right;\n    }\n</style>\n<table border=\"1\" class=\"dataframe\">\n  <thead>\n    <tr style=\"text-align: right;\">\n      <th></th>\n      <th>id</th>\n      <th>division</th>\n      <th>bang</th>\n    </tr>\n  </thead>\n  <tbody>\n    <tr>\n      <th>0</th>\n      <td>1</td>\n      <td>1</td>\n      <td>কুমিল্লা</td>\n    </tr>\n    <tr>\n      <th>1</th>\n      <td>2</td>\n      <td>1</td>\n      <td>ফেনী</td>\n    </tr>\n    <tr>\n      <th>2</th>\n      <td>3</td>\n      <td>1</td>\n      <td>ব্রাহ্মণবাড়িয়া</td>\n    </tr>\n    <tr>\n      <th>3</th>\n      <td>4</td>\n      <td>1</td>\n      <td>রাঙ্গামাটি</td>\n    </tr>\n    <tr>\n      <th>4</th>\n      <td>5</td>\n      <td>1</td>\n      <td>নোয়াখালী</td>\n    </tr>\n    <tr>\n      <th>...</th>\n      <td>...</td>\n      <td>...</td>\n      <td>...</td>\n    </tr>\n    <tr>\n      <th>59</th>\n      <td>60</td>\n      <td>7</td>\n      <td>কুড়িগ্রাম</td>\n    </tr>\n    <tr>\n      <th>60</th>\n      <td>61</td>\n      <td>8</td>\n      <td>শেরপুর</td>\n    </tr>\n    <tr>\n      <th>61</th>\n      <td>62</td>\n      <td>8</td>\n      <td>ময়মনসিংহ</td>\n    </tr>\n    <tr>\n      <th>62</th>\n      <td>63</td>\n      <td>8</td>\n      <td>জামালপুর</td>\n    </tr>\n    <tr>\n      <th>63</th>\n      <td>64</td>\n      <td>8</td>\n      <td>নেত্রকোণা</td>\n    </tr>\n  </tbody>\n</table>\n<p>64 rows × 3 columns</p>\n</div>"
     },
     "metadata": {},
     "execution_count": 50
    }
   ],
   "source": [
    "districts"
   ]
  },
  {
   "cell_type": "code",
   "execution_count": 52,
   "metadata": {},
   "outputs": [
    {
     "output_type": "stream",
     "name": "stdout",
     "text": "0\n1\n2\n3\n4\n5\n6\n7\n8\n9\n10\n11\n12\n13\n14\n15\n16\n17\n18\n19\n20\n21\n22\n23\n24\n25\n26\n27\n28\n29\n30\n31\n32\n33\n34\n35\n36\n37\n38\n39\n40\n41\n42\n43\n44\n45\n46\n47\n48\n49\n50\n51\n52\n53\n54\n55\n56\n57\n58\n59\n60\n61\n62\n63\n"
    }
   ],
   "source": [
    "for i,row in districts.iterrows():\n",
    "    url2019  = \"http://dev.pipilika.com:5001/get_dengue_news?location=\"+row['bang']+\"&start_date=2019-01-01&end_date=2019-12-31\"\n",
    "    url20191 = \"http://dev.pipilika.com:5001/get_dengue_news?location=\"+row['bang']+\"&start_date=2019-01-01&end_date=2019-03-31\"\n",
    "    url20192 = \"http://dev.pipilika.com:5001/get_dengue_news?location=\"+row['bang']+\"&start_date=2019-04-01&end_date=2019-06-31\"\n",
    "    url20193 = \"http://dev.pipilika.com:5001/get_dengue_news?location=\"+row['bang']+\"&start_date=2019-07-01&end_date=2019-09-31\"\n",
    "    url20194 = \"http://dev.pipilika.com:5001/get_dengue_news?location=\"+row['bang']+\"&start_date=2019-10-01&end_date=2019-12-31\"\n",
    "    request2019  = requests.get(url2019).json()\n",
    "    districts.loc[i,'2019']  = request2019\n",
    "    # request20191 = requests.get(url20191).json()\n",
    "    # districts.loc[i,'20191'] = request20191\n",
    "    # request20192 = requests.get(url20192).json()\n",
    "    # districts.loc[i,'20192'] = request20192\n",
    "    # request20193 = requests.get(url20193).json()\n",
    "    # districts.loc[i,'20193'] = request20193\n",
    "    # request20194 = requests.get(url20194).json()    \n",
    "    # districts.loc[i,'20194'] = request20194\n",
    "    \n",
    "    url2020 = \"http://dev.pipilika.com:5001/get_dengue_news?location=\"+row['bang']+\"&start_date=2020-01-01&end_date=2020-03-31\"\n",
    "    request2020 = requests.get(url2020).json()\n",
    "    districts.loc[i,'2020'] = request2020\n",
    "    \n",
    "    print(i)\n",
    "\n",
    ""
   ]
  },
  {
   "cell_type": "code",
   "execution_count": 54,
   "metadata": {},
   "outputs": [],
   "source": [
    "del districts['20191']"
   ]
  },
  {
   "cell_type": "code",
   "execution_count": 55,
   "metadata": {},
   "outputs": [
    {
     "output_type": "execute_result",
     "data": {
      "text/plain": "    id  division              bang    2019  2020\n0    1         1          কুমিল্লা   419.0   2.0\n1    2         1              ফেনী   192.0   3.0\n2    3         1  ব্রাহ্মণবাড়িয়া   187.0   0.0\n3    4         1        রাঙ্গামাটি    34.0   0.0\n4    5         1         নোয়াখালী   231.0   0.0\n..  ..       ...               ...     ...   ...\n59  60         7         কুড়িগ্রাম   157.0   3.0\n60  61         8            শেরপুর   179.0   1.0\n61  62         8          ময়মনসিংহ  1455.0   5.0\n62  63         8          জামালপুর   214.0   3.0\n63  64         8         নেত্রকোণা    66.0   0.0\n\n[64 rows x 5 columns]",
      "text/html": "<div>\n<style scoped>\n    .dataframe tbody tr th:only-of-type {\n        vertical-align: middle;\n    }\n\n    .dataframe tbody tr th {\n        vertical-align: top;\n    }\n\n    .dataframe thead th {\n        text-align: right;\n    }\n</style>\n<table border=\"1\" class=\"dataframe\">\n  <thead>\n    <tr style=\"text-align: right;\">\n      <th></th>\n      <th>id</th>\n      <th>division</th>\n      <th>bang</th>\n      <th>2019</th>\n      <th>2020</th>\n    </tr>\n  </thead>\n  <tbody>\n    <tr>\n      <th>0</th>\n      <td>1</td>\n      <td>1</td>\n      <td>কুমিল্লা</td>\n      <td>419.0</td>\n      <td>2.0</td>\n    </tr>\n    <tr>\n      <th>1</th>\n      <td>2</td>\n      <td>1</td>\n      <td>ফেনী</td>\n      <td>192.0</td>\n      <td>3.0</td>\n    </tr>\n    <tr>\n      <th>2</th>\n      <td>3</td>\n      <td>1</td>\n      <td>ব্রাহ্মণবাড়িয়া</td>\n      <td>187.0</td>\n      <td>0.0</td>\n    </tr>\n    <tr>\n      <th>3</th>\n      <td>4</td>\n      <td>1</td>\n      <td>রাঙ্গামাটি</td>\n      <td>34.0</td>\n      <td>0.0</td>\n    </tr>\n    <tr>\n      <th>4</th>\n      <td>5</td>\n      <td>1</td>\n      <td>নোয়াখালী</td>\n      <td>231.0</td>\n      <td>0.0</td>\n    </tr>\n    <tr>\n      <th>...</th>\n      <td>...</td>\n      <td>...</td>\n      <td>...</td>\n      <td>...</td>\n      <td>...</td>\n    </tr>\n    <tr>\n      <th>59</th>\n      <td>60</td>\n      <td>7</td>\n      <td>কুড়িগ্রাম</td>\n      <td>157.0</td>\n      <td>3.0</td>\n    </tr>\n    <tr>\n      <th>60</th>\n      <td>61</td>\n      <td>8</td>\n      <td>শেরপুর</td>\n      <td>179.0</td>\n      <td>1.0</td>\n    </tr>\n    <tr>\n      <th>61</th>\n      <td>62</td>\n      <td>8</td>\n      <td>ময়মনসিংহ</td>\n      <td>1455.0</td>\n      <td>5.0</td>\n    </tr>\n    <tr>\n      <th>62</th>\n      <td>63</td>\n      <td>8</td>\n      <td>জামালপুর</td>\n      <td>214.0</td>\n      <td>3.0</td>\n    </tr>\n    <tr>\n      <th>63</th>\n      <td>64</td>\n      <td>8</td>\n      <td>নেত্রকোণা</td>\n      <td>66.0</td>\n      <td>0.0</td>\n    </tr>\n  </tbody>\n</table>\n<p>64 rows × 5 columns</p>\n</div>"
     },
     "metadata": {},
     "execution_count": 55
    }
   ],
   "source": [
    "districts"
   ]
  },
  {
   "cell_type": "code",
   "execution_count": 70,
   "metadata": {},
   "outputs": [],
   "source": [
    "districts.to_csv(\"DistrictDataWith20192020.csv\")"
   ]
  },
  {
   "cell_type": "code",
   "execution_count": 71,
   "metadata": {},
   "outputs": [],
   "source": [
    "divisions = pd.read_csv(\"divisions.csv\",names=[\"id\",\"eng\",\"bang\",\"web\"])"
   ]
  },
  {
   "cell_type": "code",
   "execution_count": 72,
   "metadata": {},
   "outputs": [],
   "source": [
    "del divisions['eng']\n",
    "del divisions['web']"
   ]
  },
  {
   "cell_type": "code",
   "execution_count": 73,
   "metadata": {},
   "outputs": [
    {
     "output_type": "execute_result",
     "data": {
      "text/plain": "   id       bang\n0   1  চট্টগ্রাম\n1   2    রাজশাহী\n2   3      খুলনা\n3   4     বরিশাল\n4   5      সিলেট\n5   6       ঢাকা\n6   7      রংপুর\n7   8   ময়মনসিংহ",
      "text/html": "<div>\n<style scoped>\n    .dataframe tbody tr th:only-of-type {\n        vertical-align: middle;\n    }\n\n    .dataframe tbody tr th {\n        vertical-align: top;\n    }\n\n    .dataframe thead th {\n        text-align: right;\n    }\n</style>\n<table border=\"1\" class=\"dataframe\">\n  <thead>\n    <tr style=\"text-align: right;\">\n      <th></th>\n      <th>id</th>\n      <th>bang</th>\n    </tr>\n  </thead>\n  <tbody>\n    <tr>\n      <th>0</th>\n      <td>1</td>\n      <td>চট্টগ্রাম</td>\n    </tr>\n    <tr>\n      <th>1</th>\n      <td>2</td>\n      <td>রাজশাহী</td>\n    </tr>\n    <tr>\n      <th>2</th>\n      <td>3</td>\n      <td>খুলনা</td>\n    </tr>\n    <tr>\n      <th>3</th>\n      <td>4</td>\n      <td>বরিশাল</td>\n    </tr>\n    <tr>\n      <th>4</th>\n      <td>5</td>\n      <td>সিলেট</td>\n    </tr>\n    <tr>\n      <th>5</th>\n      <td>6</td>\n      <td>ঢাকা</td>\n    </tr>\n    <tr>\n      <th>6</th>\n      <td>7</td>\n      <td>রংপুর</td>\n    </tr>\n    <tr>\n      <th>7</th>\n      <td>8</td>\n      <td>ময়মনসিংহ</td>\n    </tr>\n  </tbody>\n</table>\n</div>"
     },
     "metadata": {},
     "execution_count": 73
    }
   ],
   "source": [
    "divisions"
   ]
  },
  {
   "cell_type": "code",
   "execution_count": null,
   "metadata": {},
   "outputs": [],
   "source": [
    "for i,row in divisions.iterrows():\n",
    "    url2019   = \"http://dev.pipilika.com:5001/get_dengue_news?location=\"+row['bang']+\"&start_date=2019-01-01&end_date=2019-12-31\"\n",
    "    url20191  = \"http://dev.pipilika.com:5001/get_dengue_news?location=\"+row['bang']+\"&start_date=2019-01-01&end_date=2019-01-31\"\n",
    "    url20192  = \"http://dev.pipilika.com:5001/get_dengue_news?location=\"+row['bang']+\"&start_date=2019-02-01&end_date=2019-02-28\"\n",
    "    url20193  = \"http://dev.pipilika.com:5001/get_dengue_news?location=\"+row['bang']+\"&start_date=2019-03-01&end_date=2019-03-31\"\n",
    "    url20194  = \"http://dev.pipilika.com:5001/get_dengue_news?location=\"+row['bang']+\"&start_date=2019-04-01&end_date=2019-04-30\"\n",
    "    url20195  = \"http://dev.pipilika.com:5001/get_dengue_news?location=\"+row['bang']+\"&start_date=2019-05-01&end_date=2019-05-31\"\n",
    "    url20196  = \"http://dev.pipilika.com:5001/get_dengue_news?location=\"+row['bang']+\"&start_date=2019-06-01&end_date=2019-06-30\"\n",
    "    url20197  = \"http://dev.pipilika.com:5001/get_dengue_news?location=\"+row['bang']+\"&start_date=2019-07-01&end_date=2019-07-31\"\n",
    "    url20198  = \"http://dev.pipilika.com:5001/get_dengue_news?location=\"+row['bang']+\"&start_date=2019-08-01&end_date=2019-08-31\"\n",
    "    url20199  = \"http://dev.pipilika.com:5001/get_dengue_news?location=\"+row['bang']+\"&start_date=2019-09-01&end_date=2019-09-30\"\n",
    "    url201910 = \"http://dev.pipilika.com:5001/get_dengue_news?location=\"+row['bang']+\"&start_date=2019-10-01&end_date=2019-10-31\"\n",
    "    url201911 = \"http://dev.pipilika.com:5001/get_dengue_news?location=\"+row['bang']+\"&start_date=2019-11-01&end_date=2019-11-30\"\n",
    "    url201912 = \"http://dev.pipilika.com:5001/get_dengue_news?location=\"+row['bang']+\"&start_date=2019-12-01&end_date=2019-12-31\"\n",
    "    request2019  = requests.get(url2019).json()\n",
    "    divisions.loc[i,'2019']  = request2019\n",
    "    request20191 = requests.get(url20191).json()\n",
    "    divisions.loc[i,'20191'] = request20191\n",
    "    request20192 = requests.get(url20192).json()\n",
    "    divisions.loc[i,'20192'] = request20192\n",
    "    request20193 = requests.get(url20193).json()\n",
    "    divisions.loc[i,'20193'] = request20193\n",
    "    request20194 = requests.get(url20194).json()    \n",
    "    divisions.loc[i,'20194'] = request20194\n",
    "    request20195 = requests.get(url20195).json()    \n",
    "    divisions.loc[i,'20195'] = request20195\n",
    "    request20196 = requests.get(url20196).json()    \n",
    "    divisions.loc[i,'20196'] = request20196\n",
    "    request20197 = requests.get(url20197).json()    \n",
    "    divisions.loc[i,'20197'] = request20197\n",
    "    request20198 = requests.get(url20198).json()    \n",
    "    divisions.loc[i,'20198'] = request20198\n",
    "    request20199 = requests.get(url20199).json()    \n",
    "    divisions.loc[i,'20199'] = request20199\n",
    "    request201910 = requests.get(url201910).json()    \n",
    "    divisions.loc[i,'201910'] = request201910\n",
    "    request201911 = requests.get(url201911).json()    \n",
    "    divisions.loc[i,'201911'] = request201911\n",
    "    request201912 = requests.get(url201912).json()    \n",
    "    divisions.loc[i,'201912'] = request201912\n",
    "    \n",
    "    url2020 = \"http://dev.pipilika.com:5001/get_dengue_news?location=\"+row['bang']+\"&start_date=2020-01-01&end_date=2020-03-31\"\n",
    "    url20201 = \"http://dev.pipilika.com:5001/get_dengue_news?location=\"+row['bang']+\"&start_date=2020-01-01&end_date=2020-01-31\"\n",
    "    url20202 = \"http://dev.pipilika.com:5001/get_dengue_news?location=\"+row['bang']+\"&start_date=2020-02-01&end_date=2020-02-29\"\n",
    "    url20203 = \"http://dev.pipilika.com:5001/get_dengue_news?location=\"+row['bang']+\"&start_date=2020-03-01&end_date=2020-03-31\"\n",
    "    \n",
    "    request2020 = requests.get(url2020).json()\n",
    "    divisions.loc[i,'2020'] = request2020\n",
    "    request20201 = requests.get(url20201).json()\n",
    "    divisions.loc[i,'20201'] = request20201\n",
    "    request20202 = requests.get(url20202).json()\n",
    "    divisions.loc[i,'20202'] = request20202\n",
    "    request20203 = requests.get(url20203).json()\n",
    "    divisions.loc[i,'20203'] = request20203\n",
    "    \n",
    "    print(i)\n",
    "\n",
    "\n",
    "\n",
    ""
   ]
  },
  {
   "cell_type": "code",
   "execution_count": 79,
   "metadata": {},
   "outputs": [
    {
     "output_type": "execute_result",
     "data": {
      "text/plain": "   id       bang     2019  20191  20192  20193  20194  20195  20196  20197  \\\n0   1  চট্টগ্রাম   2169.0    3.0    6.0    3.0    2.0    0.0    5.0   59.0   \n1   2    রাজশাহী   1534.0    3.0   17.0    3.0    1.0    0.0    6.0   55.0   \n2   3      খুলনা   1594.0    1.0    1.0    3.0    2.0    0.0    0.0   39.0   \n3   4     বরিশাল   1904.0    2.0    5.0    0.0    1.0    0.0    1.0   51.0   \n4   5      সিলেট   1432.0    7.0    3.0    3.0    3.0    0.0    2.0   52.0   \n5   6       ঢাকা  10990.0   26.0   41.0   32.0   20.0   26.0  223.0  340.0   \n6   7      রংপুর   1109.0    1.0    0.0    2.0    2.0    0.0    1.0   27.0   \n7   8   ময়মনসিংহ   1455.0    1.0    0.0    0.0    0.0    0.0    0.0   32.0   \n\n    20198   20199  201910  201911  201912   2020  \n0  1317.0   562.0   145.0    41.0    25.0   11.0  \n1   855.0   491.0    75.0    17.0    11.0   17.0  \n2   917.0   468.0   107.0    47.0     8.0    3.0  \n3  1161.0   554.0    91.0    24.0    14.0    2.0  \n4   835.0   405.0    65.0    22.0    35.0    6.0  \n5  7648.0  1720.0   443.0   281.0   189.0  164.0  \n6   765.0   237.0    55.0    11.0     8.0    4.0  \n7   977.0   360.0    62.0    13.0    10.0    5.0  ",
      "text/html": "<div>\n<style scoped>\n    .dataframe tbody tr th:only-of-type {\n        vertical-align: middle;\n    }\n\n    .dataframe tbody tr th {\n        vertical-align: top;\n    }\n\n    .dataframe thead th {\n        text-align: right;\n    }\n</style>\n<table border=\"1\" class=\"dataframe\">\n  <thead>\n    <tr style=\"text-align: right;\">\n      <th></th>\n      <th>id</th>\n      <th>bang</th>\n      <th>2019</th>\n      <th>20191</th>\n      <th>20192</th>\n      <th>20193</th>\n      <th>20194</th>\n      <th>20195</th>\n      <th>20196</th>\n      <th>20197</th>\n      <th>20198</th>\n      <th>20199</th>\n      <th>201910</th>\n      <th>201911</th>\n      <th>201912</th>\n      <th>2020</th>\n    </tr>\n  </thead>\n  <tbody>\n    <tr>\n      <th>0</th>\n      <td>1</td>\n      <td>চট্টগ্রাম</td>\n      <td>2169.0</td>\n      <td>3.0</td>\n      <td>6.0</td>\n      <td>3.0</td>\n      <td>2.0</td>\n      <td>0.0</td>\n      <td>5.0</td>\n      <td>59.0</td>\n      <td>1317.0</td>\n      <td>562.0</td>\n      <td>145.0</td>\n      <td>41.0</td>\n      <td>25.0</td>\n      <td>11.0</td>\n    </tr>\n    <tr>\n      <th>1</th>\n      <td>2</td>\n      <td>রাজশাহী</td>\n      <td>1534.0</td>\n      <td>3.0</td>\n      <td>17.0</td>\n      <td>3.0</td>\n      <td>1.0</td>\n      <td>0.0</td>\n      <td>6.0</td>\n      <td>55.0</td>\n      <td>855.0</td>\n      <td>491.0</td>\n      <td>75.0</td>\n      <td>17.0</td>\n      <td>11.0</td>\n      <td>17.0</td>\n    </tr>\n    <tr>\n      <th>2</th>\n      <td>3</td>\n      <td>খুলনা</td>\n      <td>1594.0</td>\n      <td>1.0</td>\n      <td>1.0</td>\n      <td>3.0</td>\n      <td>2.0</td>\n      <td>0.0</td>\n      <td>0.0</td>\n      <td>39.0</td>\n      <td>917.0</td>\n      <td>468.0</td>\n      <td>107.0</td>\n      <td>47.0</td>\n      <td>8.0</td>\n      <td>3.0</td>\n    </tr>\n    <tr>\n      <th>3</th>\n      <td>4</td>\n      <td>বরিশাল</td>\n      <td>1904.0</td>\n      <td>2.0</td>\n      <td>5.0</td>\n      <td>0.0</td>\n      <td>1.0</td>\n      <td>0.0</td>\n      <td>1.0</td>\n      <td>51.0</td>\n      <td>1161.0</td>\n      <td>554.0</td>\n      <td>91.0</td>\n      <td>24.0</td>\n      <td>14.0</td>\n      <td>2.0</td>\n    </tr>\n    <tr>\n      <th>4</th>\n      <td>5</td>\n      <td>সিলেট</td>\n      <td>1432.0</td>\n      <td>7.0</td>\n      <td>3.0</td>\n      <td>3.0</td>\n      <td>3.0</td>\n      <td>0.0</td>\n      <td>2.0</td>\n      <td>52.0</td>\n      <td>835.0</td>\n      <td>405.0</td>\n      <td>65.0</td>\n      <td>22.0</td>\n      <td>35.0</td>\n      <td>6.0</td>\n    </tr>\n    <tr>\n      <th>5</th>\n      <td>6</td>\n      <td>ঢাকা</td>\n      <td>10990.0</td>\n      <td>26.0</td>\n      <td>41.0</td>\n      <td>32.0</td>\n      <td>20.0</td>\n      <td>26.0</td>\n      <td>223.0</td>\n      <td>340.0</td>\n      <td>7648.0</td>\n      <td>1720.0</td>\n      <td>443.0</td>\n      <td>281.0</td>\n      <td>189.0</td>\n      <td>164.0</td>\n    </tr>\n    <tr>\n      <th>6</th>\n      <td>7</td>\n      <td>রংপুর</td>\n      <td>1109.0</td>\n      <td>1.0</td>\n      <td>0.0</td>\n      <td>2.0</td>\n      <td>2.0</td>\n      <td>0.0</td>\n      <td>1.0</td>\n      <td>27.0</td>\n      <td>765.0</td>\n      <td>237.0</td>\n      <td>55.0</td>\n      <td>11.0</td>\n      <td>8.0</td>\n      <td>4.0</td>\n    </tr>\n    <tr>\n      <th>7</th>\n      <td>8</td>\n      <td>ময়মনসিংহ</td>\n      <td>1455.0</td>\n      <td>1.0</td>\n      <td>0.0</td>\n      <td>0.0</td>\n      <td>0.0</td>\n      <td>0.0</td>\n      <td>0.0</td>\n      <td>32.0</td>\n      <td>977.0</td>\n      <td>360.0</td>\n      <td>62.0</td>\n      <td>13.0</td>\n      <td>10.0</td>\n      <td>5.0</td>\n    </tr>\n  </tbody>\n</table>\n</div>"
     },
     "metadata": {},
     "execution_count": 79
    }
   ],
   "source": [
    "divisions"
   ]
  },
  {
   "cell_type": "code",
   "execution_count": null,
   "metadata": {},
   "outputs": [],
   "source": []
  }
 ]
}