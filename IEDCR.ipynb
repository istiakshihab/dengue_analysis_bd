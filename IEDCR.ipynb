{
 "nbformat": 4,
 "nbformat_minor": 2,
 "metadata": {
  "language_info": {
   "name": "python",
   "codemirror_mode": {
    "name": "ipython",
    "version": 3
   },
   "version": "3.6.9-final"
  },
  "orig_nbformat": 2,
  "file_extension": ".py",
  "mimetype": "text/x-python",
  "name": "python",
  "npconvert_exporter": "python",
  "pygments_lexer": "ipython3",
  "version": 3,
  "kernelspec": {
   "name": "pycharm-833bc5f4",
   "display_name": "PyCharm (object_detection)"
  }
 },
 "cells": [
  {
   "cell_type": "code",
   "execution_count": 2,
   "metadata": {},
   "outputs": [],
   "source": [
    "import pandas as pd"
   ]
  },
  {
   "cell_type": "code",
   "execution_count": 3,
   "metadata": {},
   "outputs": [],
   "source": [
    "data = pd.read_csv(\"DengueCase.csv\")"
   ]
  },
  {
   "cell_type": "code",
   "execution_count": 4,
   "metadata": {},
   "outputs": [
    {
     "output_type": "execute_result",
     "data": {
      "text/plain": "      month  2008  2009  2010  2011  2012  2013  2014  2015  2016  2017  2018  \\\n0   January     0     0     0     0     0     6    15     0    13    92    26   \n1  February     0     0     0     0     0     7     7     0     3    58     7   \n2     March     0     0     0     0     0     3     2     2    17    36    19   \n3     April     0     0     0     0     0     3     0     6    38    73    29   \n4       May     0     1     0     0     0    12     8    10    70   134    52   \n\n   2019  \n0    38  \n1    18  \n2    17  \n3    58  \n4   193  ",
      "text/html": "<div>\n<style scoped>\n    .dataframe tbody tr th:only-of-type {\n        vertical-align: middle;\n    }\n\n    .dataframe tbody tr th {\n        vertical-align: top;\n    }\n\n    .dataframe thead th {\n        text-align: right;\n    }\n</style>\n<table border=\"1\" class=\"dataframe\">\n  <thead>\n    <tr style=\"text-align: right;\">\n      <th></th>\n      <th>month</th>\n      <th>2008</th>\n      <th>2009</th>\n      <th>2010</th>\n      <th>2011</th>\n      <th>2012</th>\n      <th>2013</th>\n      <th>2014</th>\n      <th>2015</th>\n      <th>2016</th>\n      <th>2017</th>\n      <th>2018</th>\n      <th>2019</th>\n    </tr>\n  </thead>\n  <tbody>\n    <tr>\n      <th>0</th>\n      <td>January</td>\n      <td>0</td>\n      <td>0</td>\n      <td>0</td>\n      <td>0</td>\n      <td>0</td>\n      <td>6</td>\n      <td>15</td>\n      <td>0</td>\n      <td>13</td>\n      <td>92</td>\n      <td>26</td>\n      <td>38</td>\n    </tr>\n    <tr>\n      <th>1</th>\n      <td>February</td>\n      <td>0</td>\n      <td>0</td>\n      <td>0</td>\n      <td>0</td>\n      <td>0</td>\n      <td>7</td>\n      <td>7</td>\n      <td>0</td>\n      <td>3</td>\n      <td>58</td>\n      <td>7</td>\n      <td>18</td>\n    </tr>\n    <tr>\n      <th>2</th>\n      <td>March</td>\n      <td>0</td>\n      <td>0</td>\n      <td>0</td>\n      <td>0</td>\n      <td>0</td>\n      <td>3</td>\n      <td>2</td>\n      <td>2</td>\n      <td>17</td>\n      <td>36</td>\n      <td>19</td>\n      <td>17</td>\n    </tr>\n    <tr>\n      <th>3</th>\n      <td>April</td>\n      <td>0</td>\n      <td>0</td>\n      <td>0</td>\n      <td>0</td>\n      <td>0</td>\n      <td>3</td>\n      <td>0</td>\n      <td>6</td>\n      <td>38</td>\n      <td>73</td>\n      <td>29</td>\n      <td>58</td>\n    </tr>\n    <tr>\n      <th>4</th>\n      <td>May</td>\n      <td>0</td>\n      <td>1</td>\n      <td>0</td>\n      <td>0</td>\n      <td>0</td>\n      <td>12</td>\n      <td>8</td>\n      <td>10</td>\n      <td>70</td>\n      <td>134</td>\n      <td>52</td>\n      <td>193</td>\n    </tr>\n  </tbody>\n</table>\n</div>"
     },
     "metadata": {},
     "execution_count": 4
    }
   ],
   "source": [
    "data.head()"
   ]
  },
  {
   "cell_type": "code",
   "execution_count": 5,
   "metadata": {},
   "outputs": [],
   "source": [
    "del data['2008']\n",
    "del data['2009']\n",
    "del data['2010']\n",
    "del data['2011']\n",
    "del data['2012']\n",
    "del data['2013']\n",
    "del data['2014']\n",
    "del data['2015']\n",
    "del data['2016']\n",
    "del data['2017']\n",
    "del data['2018']"
   ]
  },
  {
   "cell_type": "code",
   "execution_count": 6,
   "metadata": {},
   "outputs": [
    {
     "output_type": "execute_result",
     "data": {
      "text/plain": "      month  2019\n0   January    38\n1  February    18\n2     March    17\n3     April    58\n4       May   193",
      "text/html": "<div>\n<style scoped>\n    .dataframe tbody tr th:only-of-type {\n        vertical-align: middle;\n    }\n\n    .dataframe tbody tr th {\n        vertical-align: top;\n    }\n\n    .dataframe thead th {\n        text-align: right;\n    }\n</style>\n<table border=\"1\" class=\"dataframe\">\n  <thead>\n    <tr style=\"text-align: right;\">\n      <th></th>\n      <th>month</th>\n      <th>2019</th>\n    </tr>\n  </thead>\n  <tbody>\n    <tr>\n      <th>0</th>\n      <td>January</td>\n      <td>38</td>\n    </tr>\n    <tr>\n      <th>1</th>\n      <td>February</td>\n      <td>18</td>\n    </tr>\n    <tr>\n      <th>2</th>\n      <td>March</td>\n      <td>17</td>\n    </tr>\n    <tr>\n      <th>3</th>\n      <td>April</td>\n      <td>58</td>\n    </tr>\n    <tr>\n      <th>4</th>\n      <td>May</td>\n      <td>193</td>\n    </tr>\n  </tbody>\n</table>\n</div>"
     },
     "metadata": {},
     "execution_count": 6
    }
   ],
   "source": [
    "data.head()"
   ]
  },
  {
   "cell_type": "code",
   "execution_count": null,
   "metadata": {},
   "outputs": [],
   "source": [
    "data.to_csv(\"IEDCR.csv\")"
   ]
  }
 ]
}